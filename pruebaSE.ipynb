{
  "nbformat": 4,
  "nbformat_minor": 0,
  "metadata": {
    "colab": {
      "name": "pruebaSE.ipynb",
      "provenance": [],
      "collapsed_sections": [],
      "authorship_tag": "ABX9TyPNGCBiAzdm8IUfo3S0s7+0",
      "include_colab_link": true
    },
    "kernelspec": {
      "name": "python3",
      "display_name": "Python 3"
    },
    "language_info": {
      "name": "python"
    }
  },
  "cells": [
    {
      "cell_type": "markdown",
      "metadata": {
        "id": "view-in-github",
        "colab_type": "text"
      },
      "source": [
        "<a href=\"https://colab.research.google.com/github/rayner-p/Simulacion/blob/main/pruebaSE.ipynb\" target=\"_parent\"><img src=\"https://colab.research.google.com/assets/colab-badge.svg\" alt=\"Open In Colab\"/></a>"
      ]
    },
    {
      "cell_type": "code",
      "metadata": {
        "id": "kVIXfAVUDWG2",
        "colab": {
          "base_uri": "https://localhost:8080/",
          "height": 1000
        },
        "outputId": "a81d9c20-3532-4e4f-8e95-17ce5a143d67"
      },
      "source": [
        "import pandas as pd # Importamos el paquete Pandas\n",
        "import numpy as np\n",
        "from datetime import datetime\n",
        "url = 'https://raw.githubusercontent.com/andrab/ecuacovid/master/datos_crudos/vacunas/vacunas.csv'\n",
        "\n",
        "df_vacuna = pd.read_csv(url, header = None)\n",
        "\n",
        "df_vacuna.columns = ['fecha','dosis_total','primera_dosis','segunda_dosis']\n",
        "\n",
        "df_vacuna"
      ],
      "execution_count": 1,
      "outputs": [
        {
          "output_type": "execute_result",
          "data": {
            "text/html": [
              "<div>\n",
              "<style scoped>\n",
              "    .dataframe tbody tr th:only-of-type {\n",
              "        vertical-align: middle;\n",
              "    }\n",
              "\n",
              "    .dataframe tbody tr th {\n",
              "        vertical-align: top;\n",
              "    }\n",
              "\n",
              "    .dataframe thead th {\n",
              "        text-align: right;\n",
              "    }\n",
              "</style>\n",
              "<table border=\"1\" class=\"dataframe\">\n",
              "  <thead>\n",
              "    <tr style=\"text-align: right;\">\n",
              "      <th></th>\n",
              "      <th>fecha</th>\n",
              "      <th>dosis_total</th>\n",
              "      <th>primera_dosis</th>\n",
              "      <th>segunda_dosis</th>\n",
              "    </tr>\n",
              "  </thead>\n",
              "  <tbody>\n",
              "    <tr>\n",
              "      <th>0</th>\n",
              "      <td>fecha</td>\n",
              "      <td>dosis_total</td>\n",
              "      <td>primera_dosis</td>\n",
              "      <td>segunda_dosis</td>\n",
              "    </tr>\n",
              "    <tr>\n",
              "      <th>1</th>\n",
              "      <td>21/01/2021</td>\n",
              "      <td>0</td>\n",
              "      <td>0</td>\n",
              "      <td>0</td>\n",
              "    </tr>\n",
              "    <tr>\n",
              "      <th>2</th>\n",
              "      <td>22/01/2021</td>\n",
              "      <td>108</td>\n",
              "      <td>108</td>\n",
              "      <td>0</td>\n",
              "    </tr>\n",
              "    <tr>\n",
              "      <th>3</th>\n",
              "      <td>27/01/2021</td>\n",
              "      <td>2982</td>\n",
              "      <td>2982</td>\n",
              "      <td>0</td>\n",
              "    </tr>\n",
              "    <tr>\n",
              "      <th>4</th>\n",
              "      <td>04/02/2021</td>\n",
              "      <td>6228</td>\n",
              "      <td>6228</td>\n",
              "      <td>0</td>\n",
              "    </tr>\n",
              "    <tr>\n",
              "      <th>5</th>\n",
              "      <td>17/02/2021</td>\n",
              "      <td>8190</td>\n",
              "      <td>6228</td>\n",
              "      <td>1962</td>\n",
              "    </tr>\n",
              "    <tr>\n",
              "      <th>6</th>\n",
              "      <td>24/02/2021</td>\n",
              "      <td>24492</td>\n",
              "      <td>20784</td>\n",
              "      <td>3708</td>\n",
              "    </tr>\n",
              "    <tr>\n",
              "      <th>7</th>\n",
              "      <td>01/03/2021</td>\n",
              "      <td>42114</td>\n",
              "      <td>35886</td>\n",
              "      <td>6228</td>\n",
              "    </tr>\n",
              "    <tr>\n",
              "      <th>8</th>\n",
              "      <td>04/03/2021</td>\n",
              "      <td>59316</td>\n",
              "      <td>53088</td>\n",
              "      <td>6228</td>\n",
              "    </tr>\n",
              "    <tr>\n",
              "      <th>9</th>\n",
              "      <td>05/03/2021</td>\n",
              "      <td>71148</td>\n",
              "      <td>64920</td>\n",
              "      <td>6228</td>\n",
              "    </tr>\n",
              "    <tr>\n",
              "      <th>10</th>\n",
              "      <td>08/03/2021</td>\n",
              "      <td>74472</td>\n",
              "      <td>68244</td>\n",
              "      <td>6228</td>\n",
              "    </tr>\n",
              "    <tr>\n",
              "      <th>11</th>\n",
              "      <td>09/03/2021</td>\n",
              "      <td>75258</td>\n",
              "      <td>69030</td>\n",
              "      <td>6228</td>\n",
              "    </tr>\n",
              "    <tr>\n",
              "      <th>12</th>\n",
              "      <td>11/03/2021</td>\n",
              "      <td>95915</td>\n",
              "      <td>89687</td>\n",
              "      <td>6228</td>\n",
              "    </tr>\n",
              "    <tr>\n",
              "      <th>13</th>\n",
              "      <td>12/03/2021</td>\n",
              "      <td>123176</td>\n",
              "      <td>116948</td>\n",
              "      <td>6228</td>\n",
              "    </tr>\n",
              "    <tr>\n",
              "      <th>14</th>\n",
              "      <td>13/03/2021</td>\n",
              "      <td>139359</td>\n",
              "      <td>119222</td>\n",
              "      <td>20137</td>\n",
              "    </tr>\n",
              "    <tr>\n",
              "      <th>15</th>\n",
              "      <td>15/03/2021</td>\n",
              "      <td>141191</td>\n",
              "      <td>121054</td>\n",
              "      <td>20137</td>\n",
              "    </tr>\n",
              "    <tr>\n",
              "      <th>16</th>\n",
              "      <td>21/03/2021</td>\n",
              "      <td>178970</td>\n",
              "      <td>140765</td>\n",
              "      <td>38205</td>\n",
              "    </tr>\n",
              "    <tr>\n",
              "      <th>17</th>\n",
              "      <td>23/03/2021</td>\n",
              "      <td>182261</td>\n",
              "      <td>143614</td>\n",
              "      <td>38647</td>\n",
              "    </tr>\n",
              "    <tr>\n",
              "      <th>18</th>\n",
              "      <td>24/03/2021</td>\n",
              "      <td>191179</td>\n",
              "      <td>152526</td>\n",
              "      <td>38653</td>\n",
              "    </tr>\n",
              "    <tr>\n",
              "      <th>19</th>\n",
              "      <td>26/03/2021</td>\n",
              "      <td>230770</td>\n",
              "      <td>172413</td>\n",
              "      <td>58357</td>\n",
              "    </tr>\n",
              "    <tr>\n",
              "      <th>20</th>\n",
              "      <td>27/03/2021</td>\n",
              "      <td>235000</td>\n",
              "      <td>174642</td>\n",
              "      <td>60358</td>\n",
              "    </tr>\n",
              "    <tr>\n",
              "      <th>21</th>\n",
              "      <td>29/03/2021</td>\n",
              "      <td>244866</td>\n",
              "      <td>182329</td>\n",
              "      <td>62537</td>\n",
              "    </tr>\n",
              "    <tr>\n",
              "      <th>22</th>\n",
              "      <td>01/04/2021</td>\n",
              "      <td>283106</td>\n",
              "      <td>204902</td>\n",
              "      <td>78204</td>\n",
              "    </tr>\n",
              "    <tr>\n",
              "      <th>23</th>\n",
              "      <td>04/04/2021</td>\n",
              "      <td>301069</td>\n",
              "      <td>211720</td>\n",
              "      <td>89349</td>\n",
              "    </tr>\n",
              "    <tr>\n",
              "      <th>24</th>\n",
              "      <td>05/04/2021</td>\n",
              "      <td>335093</td>\n",
              "      <td>228504</td>\n",
              "      <td>106589</td>\n",
              "    </tr>\n",
              "    <tr>\n",
              "      <th>25</th>\n",
              "      <td>06/04/2021</td>\n",
              "      <td>356783</td>\n",
              "      <td>244159</td>\n",
              "      <td>112624</td>\n",
              "    </tr>\n",
              "    <tr>\n",
              "      <th>26</th>\n",
              "      <td>08/04/2021</td>\n",
              "      <td>363255</td>\n",
              "      <td>250631</td>\n",
              "      <td>112624</td>\n",
              "    </tr>\n",
              "    <tr>\n",
              "      <th>27</th>\n",
              "      <td>14/04/2021</td>\n",
              "      <td>480962</td>\n",
              "      <td>338180</td>\n",
              "      <td>142782</td>\n",
              "    </tr>\n",
              "    <tr>\n",
              "      <th>28</th>\n",
              "      <td>15/04/2021</td>\n",
              "      <td>485132</td>\n",
              "      <td>338180</td>\n",
              "      <td>146952</td>\n",
              "    </tr>\n",
              "    <tr>\n",
              "      <th>29</th>\n",
              "      <td>16/04/2021</td>\n",
              "      <td>514151</td>\n",
              "      <td>354019</td>\n",
              "      <td>160132</td>\n",
              "    </tr>\n",
              "    <tr>\n",
              "      <th>30</th>\n",
              "      <td>17/04/2021</td>\n",
              "      <td>545132</td>\n",
              "      <td>377199</td>\n",
              "      <td>167933</td>\n",
              "    </tr>\n",
              "    <tr>\n",
              "      <th>31</th>\n",
              "      <td>18/04/2021</td>\n",
              "      <td>554369</td>\n",
              "      <td>384093</td>\n",
              "      <td>170276</td>\n",
              "    </tr>\n",
              "    <tr>\n",
              "      <th>32</th>\n",
              "      <td>19/04/2021</td>\n",
              "      <td>577711</td>\n",
              "      <td>401871</td>\n",
              "      <td>175840</td>\n",
              "    </tr>\n",
              "    <tr>\n",
              "      <th>33</th>\n",
              "      <td>20/04/2021</td>\n",
              "      <td>601229</td>\n",
              "      <td>421937</td>\n",
              "      <td>179292</td>\n",
              "    </tr>\n",
              "    <tr>\n",
              "      <th>34</th>\n",
              "      <td>21/04/2021</td>\n",
              "      <td>643702</td>\n",
              "      <td>457403</td>\n",
              "      <td>186299</td>\n",
              "    </tr>\n",
              "    <tr>\n",
              "      <th>35</th>\n",
              "      <td>22/04/2021</td>\n",
              "      <td>675510</td>\n",
              "      <td>486524</td>\n",
              "      <td>188986</td>\n",
              "    </tr>\n",
              "    <tr>\n",
              "      <th>36</th>\n",
              "      <td>23/04/2021</td>\n",
              "      <td>711204</td>\n",
              "      <td>514854</td>\n",
              "      <td>196350</td>\n",
              "    </tr>\n",
              "    <tr>\n",
              "      <th>37</th>\n",
              "      <td>24/04/2021</td>\n",
              "      <td>732717</td>\n",
              "      <td>532367</td>\n",
              "      <td>200350</td>\n",
              "    </tr>\n",
              "    <tr>\n",
              "      <th>38</th>\n",
              "      <td>25/04/2021</td>\n",
              "      <td>743937</td>\n",
              "      <td>541420</td>\n",
              "      <td>202517</td>\n",
              "    </tr>\n",
              "    <tr>\n",
              "      <th>39</th>\n",
              "      <td>26/04/2021</td>\n",
              "      <td>765489</td>\n",
              "      <td>555265</td>\n",
              "      <td>210224</td>\n",
              "    </tr>\n",
              "    <tr>\n",
              "      <th>40</th>\n",
              "      <td>27/04/2021</td>\n",
              "      <td>816175</td>\n",
              "      <td>595699</td>\n",
              "      <td>220476</td>\n",
              "    </tr>\n",
              "    <tr>\n",
              "      <th>41</th>\n",
              "      <td>28/04/2021</td>\n",
              "      <td>861393</td>\n",
              "      <td>633421</td>\n",
              "      <td>227972</td>\n",
              "    </tr>\n",
              "    <tr>\n",
              "      <th>42</th>\n",
              "      <td>29/04/2021</td>\n",
              "      <td>920865</td>\n",
              "      <td>691000</td>\n",
              "      <td>229865</td>\n",
              "    </tr>\n",
              "    <tr>\n",
              "      <th>43</th>\n",
              "      <td>30/04/2021</td>\n",
              "      <td>987452</td>\n",
              "      <td>748021</td>\n",
              "      <td>239431</td>\n",
              "    </tr>\n",
              "    <tr>\n",
              "      <th>44</th>\n",
              "      <td>01/05/2021</td>\n",
              "      <td>1036794</td>\n",
              "      <td>791822</td>\n",
              "      <td>244972</td>\n",
              "    </tr>\n",
              "    <tr>\n",
              "      <th>45</th>\n",
              "      <td>02/05/2021</td>\n",
              "      <td>1067472</td>\n",
              "      <td>821960</td>\n",
              "      <td>245512</td>\n",
              "    </tr>\n",
              "    <tr>\n",
              "      <th>46</th>\n",
              "      <td>04/05/2021</td>\n",
              "      <td>1141262</td>\n",
              "      <td>889218</td>\n",
              "      <td>252044</td>\n",
              "    </tr>\n",
              "    <tr>\n",
              "      <th>47</th>\n",
              "      <td>05/05/2021</td>\n",
              "      <td>1182085</td>\n",
              "      <td>924539</td>\n",
              "      <td>257546</td>\n",
              "    </tr>\n",
              "    <tr>\n",
              "      <th>48</th>\n",
              "      <td>06/05/2021</td>\n",
              "      <td>1215676</td>\n",
              "      <td>953238</td>\n",
              "      <td>262438</td>\n",
              "    </tr>\n",
              "    <tr>\n",
              "      <th>49</th>\n",
              "      <td>07/05/2021</td>\n",
              "      <td>1245822</td>\n",
              "      <td>981620</td>\n",
              "      <td>264202</td>\n",
              "    </tr>\n",
              "    <tr>\n",
              "      <th>50</th>\n",
              "      <td>09/05/2021</td>\n",
              "      <td>1289962</td>\n",
              "      <td>1024121</td>\n",
              "      <td>265841</td>\n",
              "    </tr>\n",
              "  </tbody>\n",
              "</table>\n",
              "</div>"
            ],
            "text/plain": [
              "         fecha  dosis_total  primera_dosis  segunda_dosis\n",
              "0        fecha  dosis_total  primera_dosis  segunda_dosis\n",
              "1   21/01/2021            0              0              0\n",
              "2   22/01/2021          108            108              0\n",
              "3   27/01/2021         2982           2982              0\n",
              "4   04/02/2021         6228           6228              0\n",
              "5   17/02/2021         8190           6228           1962\n",
              "6   24/02/2021        24492          20784           3708\n",
              "7   01/03/2021        42114          35886           6228\n",
              "8   04/03/2021        59316          53088           6228\n",
              "9   05/03/2021        71148          64920           6228\n",
              "10  08/03/2021        74472          68244           6228\n",
              "11  09/03/2021        75258          69030           6228\n",
              "12  11/03/2021        95915          89687           6228\n",
              "13  12/03/2021       123176         116948           6228\n",
              "14  13/03/2021       139359         119222          20137\n",
              "15  15/03/2021       141191         121054          20137\n",
              "16  21/03/2021       178970         140765          38205\n",
              "17  23/03/2021       182261         143614          38647\n",
              "18  24/03/2021       191179         152526          38653\n",
              "19  26/03/2021       230770         172413          58357\n",
              "20  27/03/2021       235000         174642          60358\n",
              "21  29/03/2021       244866         182329          62537\n",
              "22  01/04/2021       283106         204902          78204\n",
              "23  04/04/2021       301069         211720          89349\n",
              "24  05/04/2021       335093         228504         106589\n",
              "25  06/04/2021       356783         244159         112624\n",
              "26  08/04/2021       363255         250631         112624\n",
              "27  14/04/2021       480962         338180         142782\n",
              "28  15/04/2021       485132         338180         146952\n",
              "29  16/04/2021       514151         354019         160132\n",
              "30  17/04/2021       545132         377199         167933\n",
              "31  18/04/2021       554369         384093         170276\n",
              "32  19/04/2021       577711         401871         175840\n",
              "33  20/04/2021       601229         421937         179292\n",
              "34  21/04/2021       643702         457403         186299\n",
              "35  22/04/2021       675510         486524         188986\n",
              "36  23/04/2021       711204         514854         196350\n",
              "37  24/04/2021       732717         532367         200350\n",
              "38  25/04/2021       743937         541420         202517\n",
              "39  26/04/2021       765489         555265         210224\n",
              "40  27/04/2021       816175         595699         220476\n",
              "41  28/04/2021       861393         633421         227972\n",
              "42  29/04/2021       920865         691000         229865\n",
              "43  30/04/2021       987452         748021         239431\n",
              "44  01/05/2021      1036794         791822         244972\n",
              "45  02/05/2021      1067472         821960         245512\n",
              "46  04/05/2021      1141262         889218         252044\n",
              "47  05/05/2021      1182085         924539         257546\n",
              "48  06/05/2021      1215676         953238         262438\n",
              "49  07/05/2021      1245822         981620         264202\n",
              "50  09/05/2021      1289962        1024121         265841"
            ]
          },
          "metadata": {
            "tags": []
          },
          "execution_count": 1
        }
      ]
    },
    {
      "cell_type": "code",
      "metadata": {
        "colab": {
          "base_uri": "https://localhost:8080/",
          "height": 638
        },
        "id": "0MTKcfxcGtvS",
        "outputId": "59d48db0-0492-48e1-bb3d-b7587b1ae5b3"
      },
      "source": [
        "url2 = 'https://raw.githubusercontent.com/andrab/ecuacovid/master/datos_crudos/vacunas/fabricantes.csv'\n",
        "\n",
        "df_vacuna_fabricante = pd.read_csv(url2, header = None)\n",
        "\n",
        "df_vacuna_fabricante.columns = ['vaccine','total','arrived_at']\n",
        "\n",
        "df_vacuna_fabricante"
      ],
      "execution_count": 53,
      "outputs": [
        {
          "output_type": "execute_result",
          "data": {
            "text/html": [
              "<div>\n",
              "<style scoped>\n",
              "    .dataframe tbody tr th:only-of-type {\n",
              "        vertical-align: middle;\n",
              "    }\n",
              "\n",
              "    .dataframe tbody tr th {\n",
              "        vertical-align: top;\n",
              "    }\n",
              "\n",
              "    .dataframe thead th {\n",
              "        text-align: right;\n",
              "    }\n",
              "</style>\n",
              "<table border=\"1\" class=\"dataframe\">\n",
              "  <thead>\n",
              "    <tr style=\"text-align: right;\">\n",
              "      <th></th>\n",
              "      <th>vaccine</th>\n",
              "      <th>total</th>\n",
              "      <th>arrived_at</th>\n",
              "    </tr>\n",
              "  </thead>\n",
              "  <tbody>\n",
              "    <tr>\n",
              "      <th>0</th>\n",
              "      <td>vaccine</td>\n",
              "      <td>total</td>\n",
              "      <td>arrived_at</td>\n",
              "    </tr>\n",
              "    <tr>\n",
              "      <th>1</th>\n",
              "      <td>Pfizer/BioNTech</td>\n",
              "      <td>8190</td>\n",
              "      <td>20/01/2021</td>\n",
              "    </tr>\n",
              "    <tr>\n",
              "      <th>2</th>\n",
              "      <td>Pfizer/BioNTech</td>\n",
              "      <td>16380</td>\n",
              "      <td>17/02/2021</td>\n",
              "    </tr>\n",
              "    <tr>\n",
              "      <th>3</th>\n",
              "      <td>Pfizer/BioNTech</td>\n",
              "      <td>17550</td>\n",
              "      <td>24/02/2021</td>\n",
              "    </tr>\n",
              "    <tr>\n",
              "      <th>4</th>\n",
              "      <td>Pfizer/BioNTech</td>\n",
              "      <td>31590</td>\n",
              "      <td>03/03/2021</td>\n",
              "    </tr>\n",
              "    <tr>\n",
              "      <th>5</th>\n",
              "      <td>Sinovac</td>\n",
              "      <td>20000</td>\n",
              "      <td>06/03/2021</td>\n",
              "    </tr>\n",
              "    <tr>\n",
              "      <th>6</th>\n",
              "      <td>Pfizer/BioNTech</td>\n",
              "      <td>73710</td>\n",
              "      <td>10/03/2021</td>\n",
              "    </tr>\n",
              "    <tr>\n",
              "      <th>7</th>\n",
              "      <td>Oxford/AstraZeneca</td>\n",
              "      <td>84000</td>\n",
              "      <td>17/03/2021</td>\n",
              "    </tr>\n",
              "    <tr>\n",
              "      <th>8</th>\n",
              "      <td>Pfizer/BioNTech</td>\n",
              "      <td>62010</td>\n",
              "      <td>17/03/2021</td>\n",
              "    </tr>\n",
              "    <tr>\n",
              "      <th>9</th>\n",
              "      <td>Pfizer/BioNTech</td>\n",
              "      <td>65520</td>\n",
              "      <td>24/03/2021</td>\n",
              "    </tr>\n",
              "    <tr>\n",
              "      <th>10</th>\n",
              "      <td>Pfizer/BioNTech</td>\n",
              "      <td>66690</td>\n",
              "      <td>31/03/2021</td>\n",
              "    </tr>\n",
              "    <tr>\n",
              "      <th>11</th>\n",
              "      <td>Pfizer/BioNTech</td>\n",
              "      <td>53820</td>\n",
              "      <td>05/04/2021</td>\n",
              "    </tr>\n",
              "    <tr>\n",
              "      <th>12</th>\n",
              "      <td>Sinovac</td>\n",
              "      <td>300000</td>\n",
              "      <td>07/04/2021</td>\n",
              "    </tr>\n",
              "    <tr>\n",
              "      <th>13</th>\n",
              "      <td>Sinovac</td>\n",
              "      <td>700000</td>\n",
              "      <td>10/04/2021</td>\n",
              "    </tr>\n",
              "    <tr>\n",
              "      <th>14</th>\n",
              "      <td>Pfizer/BioNTech</td>\n",
              "      <td>53820</td>\n",
              "      <td>14/04/2021</td>\n",
              "    </tr>\n",
              "    <tr>\n",
              "      <th>15</th>\n",
              "      <td>Pfizer/BioNTech</td>\n",
              "      <td>54990</td>\n",
              "      <td>21/04/2021</td>\n",
              "    </tr>\n",
              "    <tr>\n",
              "      <th>16</th>\n",
              "      <td>Oxford/AstraZeneca</td>\n",
              "      <td>336000</td>\n",
              "      <td>24/04/2021</td>\n",
              "    </tr>\n",
              "    <tr>\n",
              "      <th>17</th>\n",
              "      <td>Pfizer/BioNTech</td>\n",
              "      <td>54990</td>\n",
              "      <td>28/04/2021</td>\n",
              "    </tr>\n",
              "    <tr>\n",
              "      <th>18</th>\n",
              "      <td>Pfizer/BioNTech</td>\n",
              "      <td>100620</td>\n",
              "      <td>04/05/2021</td>\n",
              "    </tr>\n",
              "  </tbody>\n",
              "</table>\n",
              "</div>"
            ],
            "text/plain": [
              "               vaccine   total  arrived_at\n",
              "0              vaccine   total  arrived_at\n",
              "1      Pfizer/BioNTech    8190  20/01/2021\n",
              "2      Pfizer/BioNTech   16380  17/02/2021\n",
              "3      Pfizer/BioNTech   17550  24/02/2021\n",
              "4      Pfizer/BioNTech   31590  03/03/2021\n",
              "5              Sinovac   20000  06/03/2021\n",
              "6      Pfizer/BioNTech   73710  10/03/2021\n",
              "7   Oxford/AstraZeneca   84000  17/03/2021\n",
              "8      Pfizer/BioNTech   62010  17/03/2021\n",
              "9      Pfizer/BioNTech   65520  24/03/2021\n",
              "10     Pfizer/BioNTech   66690  31/03/2021\n",
              "11     Pfizer/BioNTech   53820  05/04/2021\n",
              "12             Sinovac  300000  07/04/2021\n",
              "13             Sinovac  700000  10/04/2021\n",
              "14     Pfizer/BioNTech   53820  14/04/2021\n",
              "15     Pfizer/BioNTech   54990  21/04/2021\n",
              "16  Oxford/AstraZeneca  336000  24/04/2021\n",
              "17     Pfizer/BioNTech   54990  28/04/2021\n",
              "18     Pfizer/BioNTech  100620  04/05/2021"
            ]
          },
          "metadata": {
            "tags": []
          },
          "execution_count": 53
        }
      ]
    },
    {
      "cell_type": "code",
      "metadata": {
        "id": "86LD3-97HTN7"
      },
      "source": [
        "url3 = 'https://raw.githubusercontent.com/andrab/ecuacovid/master/datos_crudos/vacunas/vacunas_planvacunarse.csv'\n",
        "\n",
        "df_plan_vacuna = pd.read_csv(url3, header = None)\n",
        "\n",
        "df_plan_vacuna.columns = ['fecha','primera_dosis','segunda_dosis']\n",
        "\n",
        "\n"
      ],
      "execution_count": 3,
      "outputs": []
    },
    {
      "cell_type": "code",
      "metadata": {
        "colab": {
          "base_uri": "https://localhost:8080/",
          "height": 681
        },
        "id": "Ep2VGkvmH_vB",
        "outputId": "65b71a86-1ff2-4a58-bce6-ac8735420406"
      },
      "source": [
        "import matplotlib.pyplot as pp\n",
        "%matplotlib inline\n",
        "\n",
        "pp.plot(df_vacuna.dosis_total[1:], df_vacuna.fecha[1:].astype(str))\n",
        "pp.title('Personas vacunas con la primera dosis') \n",
        "pp.ylabel('vacunas')\n",
        "pp.xlabel('vacunados')\n",
        "pp.legend(['vacunas','vacunados'], loc='lower right')\n",
        "pp.gcf().set_size_inches(42, 25)\n",
        "pp.show()\n"
      ],
      "execution_count": 4,
      "outputs": [
        {
          "output_type": "display_data",
          "data": {
            "image/png": "[encoded data removed]",
            "text/plain": [
              "<Figure size 3024x1800 with 1 Axes>"
            ]
          },
          "metadata": {
            "tags": [],
            "needs_background": "light"
          }
        }
      ]
    },
    {
      "cell_type": "code",
      "metadata": {
        "id": "KB7ZrxokDD5-",
        "colab": {
          "base_uri": "https://localhost:8080/",
          "height": 248
        },
        "outputId": "d994d8e3-fb89-486c-897a-50c6a936477a"
      },
      "source": [
        "vaccin = df_vacuna_fabricante.vaccine[1:]\n",
        "vacunasNombre= np.array(list(set(vaccin)))\n",
        "total_vacunas_fabri = df_vacuna_fabricante.total[1:]\n",
        "#explode = [0 1 1 0]\n",
        "#pp.pie(df_vacuna_fabricante.vaccine[1:,].value_counts(), explode)\n",
        "#pp.pie(df_vacuna_fabricante.vaccine.value_counts())\n",
        "#pp.title('fabricante vacunas')\n",
        "\n",
        "v1= 0\n",
        "v2=0\n",
        "v3=0\n",
        "for marca, total_mar in zip(vaccin, total_vacunas_fabri):\n",
        "  if marca == vacunasNombre[0]:\n",
        "    v1 = v1 + + int(total_mar)\n",
        "  elif marca == vacunasNombre[1]:\n",
        "    v2 = v2 + + int(total_mar)\n",
        "  elif marca == vacunasNombre[2]:\n",
        "    v3 = v3 + int(total_mar)\n",
        "\n",
        "b = np.array([v1, v2, v2])\n",
        "\n",
        "explode = (0, 0.1, 0.1)\n",
        "fig1, ax1 = pp.subplots()\n",
        "ax1.pie(b, explode=explode, labels=vacunasNombre, autopct='%1.1f%%',\n",
        "        shadow=True, startangle=90)\n",
        "ax1.axis('equal') \n",
        "\n",
        "pp.show()"
      ],
      "execution_count": 5,
      "outputs": [
        {
          "output_type": "display_data",
          "data": {
            "image/png": "[encoded data removed]",
            "text/plain": [
              "<Figure size 432x288 with 1 Axes>"
            ]
          },
          "metadata": {
            "tags": []
          }
        }
      ]
    },
    {
      "cell_type": "code",
      "metadata": {
        "colab": {
          "base_uri": "https://localhost:8080/",
          "height": 720
        },
        "id": "Y5OffsmL4Ktq",
        "outputId": "1b36340f-116a-4d3a-a85d-0a39eefc2c8e"
      },
      "source": [
        "datos_va = df_vacuna_fabricante.vaccine[1:]\n",
        "datos_vacuna = np.array(datos_va, dtype=object)\n",
        "print(datos_vacuna)\n",
        "#fecha = np.asarray([df_vacuna_fabricante.arrived_at[1:,]])\n",
        "#df =  pd.to_datetime(df_vacuna_fabricante.arrived_at[1:], errors='coerce')\n",
        "\n",
        "fecha_mes = []\n",
        "for i in df_vacuna_fabricante['arrived_at'][1:]:\n",
        "  var_Fecha= datetime.strptime(i, '%d/%m/%Y')\n",
        "  fecha_mes.append(var_Fecha.month)\n",
        "f = np.array(fecha_mes)\n",
        "print(f)\n",
        "\n",
        "#pp.plot( datos_vacuna, f)\n",
        "\n",
        "pp.hist(x=datos_vacuna, bins= 20, color=['#cf0000'], alpha=0.7, rwidth=1)\n",
        "pp.title('Vacunas por mes')\n",
        "pp.xlabel('vacunas')\n",
        "pp.ylabel('fechas')\n",
        "pp.xticks(datos_vacuna)\n",
        "pp.yticks(f)\n",
        "\n",
        "\n"
      ],
      "execution_count": 6,
      "outputs": [
        {
          "output_type": "stream",
          "text": [
            "['Pfizer/BioNTech' 'Pfizer/BioNTech' 'Pfizer/BioNTech' 'Pfizer/BioNTech'\n",
            " 'Sinovac' 'Pfizer/BioNTech' 'Oxford/AstraZeneca' 'Pfizer/BioNTech'\n",
            " 'Pfizer/BioNTech' 'Pfizer/BioNTech' 'Pfizer/BioNTech' 'Sinovac' 'Sinovac'\n",
            " 'Pfizer/BioNTech' 'Pfizer/BioNTech' 'Oxford/AstraZeneca'\n",
            " 'Pfizer/BioNTech' 'Pfizer/BioNTech']\n",
            "[1 2 2 3 3 3 3 3 3 3 4 4 4 4 4 4 4 5]\n"
          ],
          "name": "stdout"
        },
        {
          "output_type": "execute_result",
          "data": {
            "text/plain": [
              "([<matplotlib.axis.YTick at 0x7f439bbb7690>,\n",
              "  <matplotlib.axis.YTick at 0x7f439bbb4e90>,\n",
              "  <matplotlib.axis.YTick at 0x7f439c285810>,\n",
              "  <matplotlib.axis.YTick at 0x7f439bb463d0>,\n",
              "  <matplotlib.axis.YTick at 0x7f439bb3f510>,\n",
              "  <matplotlib.axis.YTick at 0x7f439bb36710>,\n",
              "  <matplotlib.axis.YTick at 0x7f439bb46810>,\n",
              "  <matplotlib.axis.YTick at 0x7f439bb464d0>,\n",
              "  <matplotlib.axis.YTick at 0x7f439bacf1d0>,\n",
              "  <matplotlib.axis.YTick at 0x7f439bacf690>,\n",
              "  <matplotlib.axis.YTick at 0x7f439bacf5d0>,\n",
              "  <matplotlib.axis.YTick at 0x7f439bad8190>,\n",
              "  <matplotlib.axis.YTick at 0x7f439bad8650>,\n",
              "  <matplotlib.axis.YTick at 0x7f439bad8590>,\n",
              "  <matplotlib.axis.YTick at 0x7f439bad8550>,\n",
              "  <matplotlib.axis.YTick at 0x7f439bacf890>,\n",
              "  <matplotlib.axis.YTick at 0x7f439bb46910>,\n",
              "  <matplotlib.axis.YTick at 0x7f439bae1350>],\n",
              " <a list of 18 Text major ticklabel objects>)"
            ]
          },
          "metadata": {
            "tags": []
          },
          "execution_count": 6
        },
        {
          "output_type": "display_data",
          "data": {
            "image/png": "[encoded data removed]",
            "text/plain": [
              "<Figure size 432x288 with 1 Axes>"
            ]
          },
          "metadata": {
            "tags": [],
            "needs_background": "light"
          }
        }
      ]
    },
    {
      "cell_type": "code",
      "metadata": {
        "id": "x_n4JexcmRFq",
        "colab": {
          "base_uri": "https://localhost:8080/",
          "height": 295
        },
        "outputId": "e3e6ba2b-070d-4eb7-d9f4-f8038f4b5e9a"
      },
      "source": [
        "#'#F2AB6D', 'r', 'blue','black','#564a4a', '#9fe6a0', '#ededd0', '#907fa4', '#da7f8f', '#f7a440', '#4a503d', '#34656d', '#04009a', '#3edbf0', '#cf0000', '#ffdf6b','#ca8a8b',\n",
        "#datos = pd.Series(df_vacuna_fabricante.arrived_at[1:,]) # cargamos los datos en un objeto Series\n",
        "fecha_mes = []\n",
        "for i in df_vacuna_fabricante['arrived_at'][1:]:\n",
        "  var_Fecha= datetime.strptime(i, '%d/%m/%Y')\n",
        "  fecha_mes.append(var_Fecha.month)\n",
        "f = np.array(fecha_mes)\n",
        "#intervalos = pd.Series(df_vacuna_fabricante.vaccine[1:,].astype(str)) # calculamos los extremos de los intervalos\n",
        "#fd = df_vacuna_fabricante['vaccine'][1:]\n",
        "#datos = np.array(fd)\n",
        "pp.hist(x=f, bins=7, color=['#F2AB6D'],alpha=0.7, rwidth=.2)\n",
        "pp.title(' Fecha de llegada de la vacuna')\n",
        "pp.xlabel('fechas')\n",
        "pp.xticks(f)\n",
        "pp.show()"
      ],
      "execution_count": 7,
      "outputs": [
        {
          "output_type": "display_data",
          "data": {
            "image/png": "[encoded data removed]",
            "text/plain": [
              "<Figure size 432x288 with 1 Axes>"
            ]
          },
          "metadata": {
            "tags": [],
            "needs_background": "light"
          }
        }
      ]
    },
    {
      "cell_type": "markdown",
      "metadata": {
        "id": "-YQWFCFzlw60"
      },
      "source": [
        "#Regresion Lineal total de vacunados\n",
        "\n"
      ]
    },
    {
      "cell_type": "code",
      "metadata": {
        "colab": {
          "base_uri": "https://localhost:8080/",
          "height": 638
        },
        "id": "CsIcsj2w2bGN",
        "outputId": "226d7cfb-de62-4f62-c44c-36022143395d"
      },
      "source": [
        "from datetime import datetime,timedelta\n",
        "from sklearn.metrics import mean_squared_error\n",
        "from scipy.optimize import curve_fit\n",
        "from scipy.optimize import fsolve\n",
        "from sklearn import linear_model\n",
        "\n",
        "\n",
        "#dat_br = np.array(lista_total_fechasbr)\n",
        "#print(dat_br)\n",
        "#print(\"-------\")\n",
        "#tot_br = np.array(lista_total_totbr, dtype='float')\n",
        "#xbr = np.arange(1, len(tot_br) + 1, 1)\n",
        "\n",
        "#Segundo metodo \n",
        "totalVacunas_ecuador = df_vacuna.loc[:,['primera_dosis', 'segunda_dosis']]\n",
        "#graficas de las vacunas\n",
        "#pp.scatter(totalVacunas_ecuador['primera_dosis'][1:], totalVacunas_ecuador['segunda_dosis'][1:], c='red', alpha=0.9)\n",
        "#pp.bar(totalVacunas_ecuador['primera_dosis'][1:], totalVacunas_ecuador['segunda_dosis'][1:], color=('#3edbf0'),  edgecolor='#ff8474')\n",
        "#pp.gcf().set_size_inches(42, 25)\n",
        "#pp.xlabel('Primera Dosis')\n",
        "#pp.ylabel('Segunda Dosis')\n",
        "#pp.title('Gráfica vacunados totales')\n",
        "\n",
        "total_llegada_fabricantes= df_vacuna_fabricante.loc[:,['total', 'arrived_at']]\n"
      ],
      "execution_count": 55,
      "outputs": [
        {
          "output_type": "execute_result",
          "data": {
            "text/html": [
              "<div>\n",
              "<style scoped>\n",
              "    .dataframe tbody tr th:only-of-type {\n",
              "        vertical-align: middle;\n",
              "    }\n",
              "\n",
              "    .dataframe tbody tr th {\n",
              "        vertical-align: top;\n",
              "    }\n",
              "\n",
              "    .dataframe thead th {\n",
              "        text-align: right;\n",
              "    }\n",
              "</style>\n",
              "<table border=\"1\" class=\"dataframe\">\n",
              "  <thead>\n",
              "    <tr style=\"text-align: right;\">\n",
              "      <th></th>\n",
              "      <th>total</th>\n",
              "      <th>arrived_at</th>\n",
              "    </tr>\n",
              "  </thead>\n",
              "  <tbody>\n",
              "    <tr>\n",
              "      <th>0</th>\n",
              "      <td>total</td>\n",
              "      <td>arrived_at</td>\n",
              "    </tr>\n",
              "    <tr>\n",
              "      <th>1</th>\n",
              "      <td>8190</td>\n",
              "      <td>20/01/2021</td>\n",
              "    </tr>\n",
              "    <tr>\n",
              "      <th>2</th>\n",
              "      <td>16380</td>\n",
              "      <td>17/02/2021</td>\n",
              "    </tr>\n",
              "    <tr>\n",
              "      <th>3</th>\n",
              "      <td>17550</td>\n",
              "      <td>24/02/2021</td>\n",
              "    </tr>\n",
              "    <tr>\n",
              "      <th>4</th>\n",
              "      <td>31590</td>\n",
              "      <td>03/03/2021</td>\n",
              "    </tr>\n",
              "    <tr>\n",
              "      <th>5</th>\n",
              "      <td>20000</td>\n",
              "      <td>06/03/2021</td>\n",
              "    </tr>\n",
              "    <tr>\n",
              "      <th>6</th>\n",
              "      <td>73710</td>\n",
              "      <td>10/03/2021</td>\n",
              "    </tr>\n",
              "    <tr>\n",
              "      <th>7</th>\n",
              "      <td>84000</td>\n",
              "      <td>17/03/2021</td>\n",
              "    </tr>\n",
              "    <tr>\n",
              "      <th>8</th>\n",
              "      <td>62010</td>\n",
              "      <td>17/03/2021</td>\n",
              "    </tr>\n",
              "    <tr>\n",
              "      <th>9</th>\n",
              "      <td>65520</td>\n",
              "      <td>24/03/2021</td>\n",
              "    </tr>\n",
              "    <tr>\n",
              "      <th>10</th>\n",
              "      <td>66690</td>\n",
              "      <td>31/03/2021</td>\n",
              "    </tr>\n",
              "    <tr>\n",
              "      <th>11</th>\n",
              "      <td>53820</td>\n",
              "      <td>05/04/2021</td>\n",
              "    </tr>\n",
              "    <tr>\n",
              "      <th>12</th>\n",
              "      <td>300000</td>\n",
              "      <td>07/04/2021</td>\n",
              "    </tr>\n",
              "    <tr>\n",
              "      <th>13</th>\n",
              "      <td>700000</td>\n",
              "      <td>10/04/2021</td>\n",
              "    </tr>\n",
              "    <tr>\n",
              "      <th>14</th>\n",
              "      <td>53820</td>\n",
              "      <td>14/04/2021</td>\n",
              "    </tr>\n",
              "    <tr>\n",
              "      <th>15</th>\n",
              "      <td>54990</td>\n",
              "      <td>21/04/2021</td>\n",
              "    </tr>\n",
              "    <tr>\n",
              "      <th>16</th>\n",
              "      <td>336000</td>\n",
              "      <td>24/04/2021</td>\n",
              "    </tr>\n",
              "    <tr>\n",
              "      <th>17</th>\n",
              "      <td>54990</td>\n",
              "      <td>28/04/2021</td>\n",
              "    </tr>\n",
              "    <tr>\n",
              "      <th>18</th>\n",
              "      <td>100620</td>\n",
              "      <td>04/05/2021</td>\n",
              "    </tr>\n",
              "  </tbody>\n",
              "</table>\n",
              "</div>"
            ],
            "text/plain": [
              "     total  arrived_at\n",
              "0    total  arrived_at\n",
              "1     8190  20/01/2021\n",
              "2    16380  17/02/2021\n",
              "3    17550  24/02/2021\n",
              "4    31590  03/03/2021\n",
              "5    20000  06/03/2021\n",
              "6    73710  10/03/2021\n",
              "7    84000  17/03/2021\n",
              "8    62010  17/03/2021\n",
              "9    65520  24/03/2021\n",
              "10   66690  31/03/2021\n",
              "11   53820  05/04/2021\n",
              "12  300000  07/04/2021\n",
              "13  700000  10/04/2021\n",
              "14   53820  14/04/2021\n",
              "15   54990  21/04/2021\n",
              "16  336000  24/04/2021\n",
              "17   54990  28/04/2021\n",
              "18  100620  04/05/2021"
            ]
          },
          "metadata": {
            "tags": []
          },
          "execution_count": 55
        }
      ]
    },
    {
      "cell_type": "code",
      "metadata": {
        "id": "TOCmAc6Cik5u",
        "colab": {
          "base_uri": "https://localhost:8080/",
          "height": 426
        },
        "outputId": "94810905-9483-4efc-bb93-7d3cce205757"
      },
      "source": [
        "\n",
        "#############\n",
        "xvaac=  (totalVacunas_ecuador.primera_dosis[1:].astype(np.int64))\n",
        "#xvac = list (totalVacunas_ecuador.iloc [:, 0][1:])\n",
        "#yvac = list (totalVacunas_ecuador.iloc [:, 1][1:])\n",
        "yvaac=  (totalVacunas_ecuador.segunda_dosis[1:].astype(np.int64))\n",
        "\n",
        "x_fabri = (total_llegada_fabricantes.total[1:].astype(np.int64))\n",
        "\n",
        "FMT = '%d/%m/%y'\n",
        "date = total_llegada_fabricantes['arrived_at']\n",
        "total_llegada_fabricantes['arrived_at'] = date.map(lambda x : (datetime.strptime(x, FMT) - datetime.strptime(\"20/01/2021\", FMT)).days)\n",
        "\n",
        "total_llegada_fabricantes\n",
        "\n",
        "\n",
        "# Creamos el objeto de Regresión Lineal\n",
        "regr_ecuador2 = linear_model.LinearRegression()\n",
        "regr_fabricante = linear_model.LinearRegression()\n",
        "\n",
        "# Entrenamos nuestro modelo\n",
        "regr_ecuador2.fit(np.array(xvaac).reshape(-1, 1) ,yvaac)\n",
        "regr_fabricante.fit(np.array(x_fabri).reshape(-1, 1) ,y_fabri)\n",
        "\n",
        "print('vacunados primera y segunda')\n",
        "print(' ')\n",
        "# Veamos los coeficienetes obtenidos, En nuestro caso, serán la Tangente\n",
        "print('Coefficients Vacunados: \\n', regr_ecuador2.coef_)\n",
        "# Este es el valor donde corta el eje Y (en X=0)\n",
        "print('Independent term Vacunados: \\n', regr_ecuador2.intercept_)\n",
        "# Error Cuadrado Medio\n",
        "y_prediccion2 = regr_ecuador2.predict([[100]])\n",
        "print('prediccion vacunados-->',int(y_prediccion2))\n",
        "print(' ')\n",
        "\n",
        "print('fecha llegada vacunas')\n",
        "print(' ')\n",
        "\n",
        "print('Coefficients Fabricantes: \\n', regr_fabricante.coef_)\n",
        "# Este es el valor donde corta el eje Y (en X=0)\n",
        "print('Independent term Fabricantes: \\n', regr_fabricante.intercept_)\n",
        "# Error Cuadrado Medio\n",
        "y_prediccion_fabri = regr_fabricante.predict([[100]])\n",
        "print('prediccion Fabricantes-->',int(y_prediccion_fabri))\n",
        "print(' ')\n",
        "\n",
        "\n"
      ],
      "execution_count": 67,
      "outputs": [
        {
          "output_type": "error",
          "ename": "ValueError",
          "evalue": "ignored",
          "traceback": [
            "\u001b[0;31m---------------------------------------------------------------------------\u001b[0m",
            "\u001b[0;31mValueError\u001b[0m                                Traceback (most recent call last)",
            "\u001b[0;32m<ipython-input-67-398cdb5f28ff>\u001b[0m in \u001b[0;36m<module>\u001b[0;34m()\u001b[0m\n\u001b[1;32m     10\u001b[0m \u001b[0mFMT\u001b[0m \u001b[0;34m=\u001b[0m \u001b[0;34m'%d/%m/%y'\u001b[0m\u001b[0;34m\u001b[0m\u001b[0;34m\u001b[0m\u001b[0m\n\u001b[1;32m     11\u001b[0m \u001b[0mdate\u001b[0m \u001b[0;34m=\u001b[0m \u001b[0mtotal_llegada_fabricantes\u001b[0m\u001b[0;34m[\u001b[0m\u001b[0;34m'arrived_at'\u001b[0m\u001b[0;34m]\u001b[0m\u001b[0;34m\u001b[0m\u001b[0;34m\u001b[0m\u001b[0m\n\u001b[0;32m---> 12\u001b[0;31m \u001b[0mtotal_llegada_fabricantes\u001b[0m\u001b[0;34m[\u001b[0m\u001b[0;34m'arrived_at'\u001b[0m\u001b[0;34m]\u001b[0m \u001b[0;34m=\u001b[0m \u001b[0mdate\u001b[0m\u001b[0;34m.\u001b[0m\u001b[0mmap\u001b[0m\u001b[0;34m(\u001b[0m\u001b[0;32mlambda\u001b[0m \u001b[0mx\u001b[0m \u001b[0;34m:\u001b[0m \u001b[0;34m(\u001b[0m\u001b[0mdatetime\u001b[0m\u001b[0;34m.\u001b[0m\u001b[0mstrptime\u001b[0m\u001b[0;34m(\u001b[0m\u001b[0mx\u001b[0m\u001b[0;34m,\u001b[0m \u001b[0mFMT\u001b[0m\u001b[0;34m)\u001b[0m \u001b[0;34m-\u001b[0m \u001b[0mdatetime\u001b[0m\u001b[0;34m.\u001b[0m\u001b[0mstrptime\u001b[0m\u001b[0;34m(\u001b[0m\u001b[0;34m\"20/01/2021\"\u001b[0m\u001b[0;34m,\u001b[0m \u001b[0mFMT\u001b[0m\u001b[0;34m)\u001b[0m\u001b[0;34m)\u001b[0m\u001b[0;34m.\u001b[0m\u001b[0mdays\u001b[0m\u001b[0;34m)\u001b[0m\u001b[0;34m\u001b[0m\u001b[0;34m\u001b[0m\u001b[0m\n\u001b[0m\u001b[1;32m     13\u001b[0m \u001b[0;34m\u001b[0m\u001b[0m\n\u001b[1;32m     14\u001b[0m \u001b[0mtotal_llegada_fabricantes\u001b[0m\u001b[0;34m\u001b[0m\u001b[0;34m\u001b[0m\u001b[0m\n",
            "\u001b[0;32m/usr/local/lib/python3.7/dist-packages/pandas/core/series.py\u001b[0m in \u001b[0;36mmap\u001b[0;34m(self, arg, na_action)\u001b[0m\n\u001b[1;32m   3981\u001b[0m         \u001b[0mdtype\u001b[0m\u001b[0;34m:\u001b[0m \u001b[0mobject\u001b[0m\u001b[0;34m\u001b[0m\u001b[0;34m\u001b[0m\u001b[0m\n\u001b[1;32m   3982\u001b[0m         \"\"\"\n\u001b[0;32m-> 3983\u001b[0;31m         \u001b[0mnew_values\u001b[0m \u001b[0;34m=\u001b[0m \u001b[0msuper\u001b[0m\u001b[0;34m(\u001b[0m\u001b[0;34m)\u001b[0m\u001b[0;34m.\u001b[0m\u001b[0m_map_values\u001b[0m\u001b[0;34m(\u001b[0m\u001b[0marg\u001b[0m\u001b[0;34m,\u001b[0m \u001b[0mna_action\u001b[0m\u001b[0;34m=\u001b[0m\u001b[0mna_action\u001b[0m\u001b[0;34m)\u001b[0m\u001b[0;34m\u001b[0m\u001b[0;34m\u001b[0m\u001b[0m\n\u001b[0m\u001b[1;32m   3984\u001b[0m         return self._constructor(new_values, index=self.index).__finalize__(\n\u001b[1;32m   3985\u001b[0m             \u001b[0mself\u001b[0m\u001b[0;34m,\u001b[0m \u001b[0mmethod\u001b[0m\u001b[0;34m=\u001b[0m\u001b[0;34m\"map\"\u001b[0m\u001b[0;34m\u001b[0m\u001b[0;34m\u001b[0m\u001b[0m\n",
            "\u001b[0;32m/usr/local/lib/python3.7/dist-packages/pandas/core/base.py\u001b[0m in \u001b[0;36m_map_values\u001b[0;34m(self, mapper, na_action)\u001b[0m\n\u001b[1;32m   1158\u001b[0m \u001b[0;34m\u001b[0m\u001b[0m\n\u001b[1;32m   1159\u001b[0m         \u001b[0;31m# mapper is a function\u001b[0m\u001b[0;34m\u001b[0m\u001b[0;34m\u001b[0m\u001b[0;34m\u001b[0m\u001b[0m\n\u001b[0;32m-> 1160\u001b[0;31m         \u001b[0mnew_values\u001b[0m \u001b[0;34m=\u001b[0m \u001b[0mmap_f\u001b[0m\u001b[0;34m(\u001b[0m\u001b[0mvalues\u001b[0m\u001b[0;34m,\u001b[0m \u001b[0mmapper\u001b[0m\u001b[0;34m)\u001b[0m\u001b[0;34m\u001b[0m\u001b[0;34m\u001b[0m\u001b[0m\n\u001b[0m\u001b[1;32m   1161\u001b[0m \u001b[0;34m\u001b[0m\u001b[0m\n\u001b[1;32m   1162\u001b[0m         \u001b[0;32mreturn\u001b[0m \u001b[0mnew_values\u001b[0m\u001b[0;34m\u001b[0m\u001b[0;34m\u001b[0m\u001b[0m\n",
            "\u001b[0;32mpandas/_libs/lib.pyx\u001b[0m in \u001b[0;36mpandas._libs.lib.map_infer\u001b[0;34m()\u001b[0m\n",
            "\u001b[0;32m<ipython-input-67-398cdb5f28ff>\u001b[0m in \u001b[0;36m<lambda>\u001b[0;34m(x)\u001b[0m\n\u001b[1;32m     10\u001b[0m \u001b[0mFMT\u001b[0m \u001b[0;34m=\u001b[0m \u001b[0;34m'%d/%m/%y'\u001b[0m\u001b[0;34m\u001b[0m\u001b[0;34m\u001b[0m\u001b[0m\n\u001b[1;32m     11\u001b[0m \u001b[0mdate\u001b[0m \u001b[0;34m=\u001b[0m \u001b[0mtotal_llegada_fabricantes\u001b[0m\u001b[0;34m[\u001b[0m\u001b[0;34m'arrived_at'\u001b[0m\u001b[0;34m]\u001b[0m\u001b[0;34m\u001b[0m\u001b[0;34m\u001b[0m\u001b[0m\n\u001b[0;32m---> 12\u001b[0;31m \u001b[0mtotal_llegada_fabricantes\u001b[0m\u001b[0;34m[\u001b[0m\u001b[0;34m'arrived_at'\u001b[0m\u001b[0;34m]\u001b[0m \u001b[0;34m=\u001b[0m \u001b[0mdate\u001b[0m\u001b[0;34m.\u001b[0m\u001b[0mmap\u001b[0m\u001b[0;34m(\u001b[0m\u001b[0;32mlambda\u001b[0m \u001b[0mx\u001b[0m \u001b[0;34m:\u001b[0m \u001b[0;34m(\u001b[0m\u001b[0mdatetime\u001b[0m\u001b[0;34m.\u001b[0m\u001b[0mstrptime\u001b[0m\u001b[0;34m(\u001b[0m\u001b[0mx\u001b[0m\u001b[0;34m,\u001b[0m \u001b[0mFMT\u001b[0m\u001b[0;34m)\u001b[0m \u001b[0;34m-\u001b[0m \u001b[0mdatetime\u001b[0m\u001b[0;34m.\u001b[0m\u001b[0mstrptime\u001b[0m\u001b[0;34m(\u001b[0m\u001b[0;34m\"20/01/2021\"\u001b[0m\u001b[0;34m,\u001b[0m \u001b[0mFMT\u001b[0m\u001b[0;34m)\u001b[0m\u001b[0;34m)\u001b[0m\u001b[0;34m.\u001b[0m\u001b[0mdays\u001b[0m\u001b[0;34m)\u001b[0m\u001b[0;34m\u001b[0m\u001b[0;34m\u001b[0m\u001b[0m\n\u001b[0m\u001b[1;32m     13\u001b[0m \u001b[0;34m\u001b[0m\u001b[0m\n\u001b[1;32m     14\u001b[0m \u001b[0mtotal_llegada_fabricantes\u001b[0m\u001b[0;34m\u001b[0m\u001b[0;34m\u001b[0m\u001b[0m\n",
            "\u001b[0;32m/usr/lib/python3.7/_strptime.py\u001b[0m in \u001b[0;36m_strptime_datetime\u001b[0;34m(cls, data_string, format)\u001b[0m\n\u001b[1;32m    575\u001b[0m     \"\"\"Return a class cls instance based on the input string and the\n\u001b[1;32m    576\u001b[0m     format string.\"\"\"\n\u001b[0;32m--> 577\u001b[0;31m     \u001b[0mtt\u001b[0m\u001b[0;34m,\u001b[0m \u001b[0mfraction\u001b[0m\u001b[0;34m,\u001b[0m \u001b[0mgmtoff_fraction\u001b[0m \u001b[0;34m=\u001b[0m \u001b[0m_strptime\u001b[0m\u001b[0;34m(\u001b[0m\u001b[0mdata_string\u001b[0m\u001b[0;34m,\u001b[0m \u001b[0mformat\u001b[0m\u001b[0;34m)\u001b[0m\u001b[0;34m\u001b[0m\u001b[0;34m\u001b[0m\u001b[0m\n\u001b[0m\u001b[1;32m    578\u001b[0m     \u001b[0mtzname\u001b[0m\u001b[0;34m,\u001b[0m \u001b[0mgmtoff\u001b[0m \u001b[0;34m=\u001b[0m \u001b[0mtt\u001b[0m\u001b[0;34m[\u001b[0m\u001b[0;34m-\u001b[0m\u001b[0;36m2\u001b[0m\u001b[0;34m:\u001b[0m\u001b[0;34m]\u001b[0m\u001b[0;34m\u001b[0m\u001b[0;34m\u001b[0m\u001b[0m\n\u001b[1;32m    579\u001b[0m     \u001b[0margs\u001b[0m \u001b[0;34m=\u001b[0m \u001b[0mtt\u001b[0m\u001b[0;34m[\u001b[0m\u001b[0;34m:\u001b[0m\u001b[0;36m6\u001b[0m\u001b[0;34m]\u001b[0m \u001b[0;34m+\u001b[0m \u001b[0;34m(\u001b[0m\u001b[0mfraction\u001b[0m\u001b[0;34m,\u001b[0m\u001b[0;34m)\u001b[0m\u001b[0;34m\u001b[0m\u001b[0;34m\u001b[0m\u001b[0m\n",
            "\u001b[0;32m/usr/lib/python3.7/_strptime.py\u001b[0m in \u001b[0;36m_strptime\u001b[0;34m(data_string, format)\u001b[0m\n\u001b[1;32m    357\u001b[0m     \u001b[0;32mif\u001b[0m \u001b[0;32mnot\u001b[0m \u001b[0mfound\u001b[0m\u001b[0;34m:\u001b[0m\u001b[0;34m\u001b[0m\u001b[0;34m\u001b[0m\u001b[0m\n\u001b[1;32m    358\u001b[0m         raise ValueError(\"time data %r does not match format %r\" %\n\u001b[0;32m--> 359\u001b[0;31m                          (data_string, format))\n\u001b[0m\u001b[1;32m    360\u001b[0m     \u001b[0;32mif\u001b[0m \u001b[0mlen\u001b[0m\u001b[0;34m(\u001b[0m\u001b[0mdata_string\u001b[0m\u001b[0;34m)\u001b[0m \u001b[0;34m!=\u001b[0m \u001b[0mfound\u001b[0m\u001b[0;34m.\u001b[0m\u001b[0mend\u001b[0m\u001b[0;34m(\u001b[0m\u001b[0;34m)\u001b[0m\u001b[0;34m:\u001b[0m\u001b[0;34m\u001b[0m\u001b[0;34m\u001b[0m\u001b[0m\n\u001b[1;32m    361\u001b[0m         raise ValueError(\"unconverted data remains: %s\" %\n",
            "\u001b[0;31mValueError\u001b[0m: time data 'arrived_at' does not match format '%d/%m/%y'"
          ]
        }
      ]
    },
    {
      "cell_type": "code",
      "metadata": {
        "colab": {
          "base_uri": "https://localhost:8080/",
          "height": 295
        },
        "id": "t_WFJvE5RESC",
        "outputId": "f25a684b-4024-4133-bcf4-2cb6b456c1c4"
      },
      "source": [
        "#########\n",
        "pp.scatter(xvaac, yvaac)\n",
        "x_real = np.array(range(0,899000))\n",
        "print(x_real)\n",
        "pp.plot(x_real, regr_ecuador2.predict(x_real.reshape(-1, 1)), color='green', lw=2)\n",
        "\n",
        "pp.show()\n"
      ],
      "execution_count": 10,
      "outputs": [
        {
          "output_type": "stream",
          "text": [
            "[     0      1      2 ... 898997 898998 898999]\n"
          ],
          "name": "stdout"
        },
        {
          "output_type": "display_data",
          "data": {
            "image/png": "[encoded data removed]",
            "text/plain": [
              "<Figure size 432x288 with 1 Axes>"
            ]
          },
          "metadata": {
            "tags": [],
            "needs_background": "light"
          }
        }
      ]
    },
    {
      "cell_type": "markdown",
      "metadata": {
        "id": "vslogNOi_QGk"
      },
      "source": [
        "#Regresión logistico "
      ]
    },
    {
      "cell_type": "code",
      "metadata": {
        "colab": {
          "base_uri": "https://localhost:8080/"
        },
        "id": "8jf4ETr1olGg",
        "outputId": "02515f0e-9743-4a45-fada-e13dbaad4e5a"
      },
      "source": [
        "def modelo_logistic(xx,aa,bb):\n",
        "    return aa+bb*np.log(xx)\n",
        "\n",
        "exp_fitt = curve_fit(modelo_logistic,xvaac,yvaac) \n",
        "print(exp_fitt)"
      ],
      "execution_count": 11,
      "outputs": [
        {
          "output_type": "stream",
          "text": [
            "(array([1., 1.]), array([[inf, inf],\n",
            "       [inf, inf]]))\n"
          ],
          "name": "stdout"
        },
        {
          "output_type": "stream",
          "text": [
            "/usr/local/lib/python3.7/dist-packages/pandas/core/series.py:726: RuntimeWarning: divide by zero encountered in log\n",
            "  result = getattr(ufunc, method)(*inputs, **kwargs)\n",
            "/usr/local/lib/python3.7/dist-packages/scipy/optimize/minpack.py:808: OptimizeWarning: Covariance of the parameters could not be estimated\n",
            "  category=OptimizeWarning)\n"
          ],
          "name": "stderr"
        }
      ]
    },
    {
      "cell_type": "code",
      "metadata": {
        "colab": {
          "base_uri": "https://localhost:8080/",
          "height": 319
        },
        "id": "L1DG2gRvCZyo",
        "outputId": "180ab735-e7ea-45a9-ac23-86eefb8da8a0"
      },
      "source": [
        "pred_x = list(range(min(xvaac),max(xvaac)+100)) # Predecir 50 dias mas\n",
        "pp.rcParams['figure.figsize'] = [9, 4]\n",
        "pp.rc('font', size=12)\n",
        "# Real data\n",
        "pp.scatter(xvaac,yvaac,label=\"Datos Reales\",color=\"red\")\n",
        "# Predicted exponential curve\n",
        "pp.plot(pred_x, [modelo_logistic(i,exp_fitt[0][0],exp_fitt[0][1]) for i in pred_x], label=\"Modelo Logistico\" )\n",
        "pp.legend()\n",
        "pp.xlabel(\"primera vacuna\")\n",
        "pp.ylabel(\"segunda vacun\")\n",
        "pp.ylim((min(yvaac)*0.9,max(yvaac)*3.1)) # Definir los limites de Y\n",
        "pp.show()"
      ],
      "execution_count": 17,
      "outputs": [
        {
          "output_type": "stream",
          "text": [
            "/usr/local/lib/python3.7/dist-packages/ipykernel_launcher.py:2: RuntimeWarning: divide by zero encountered in log\n",
            "  \n"
          ],
          "name": "stderr"
        },
        {
          "output_type": "display_data",
          "data": {
            "image/png": "[encoded data removed]",
            "text/plain": [
              "<Figure size 648x288 with 1 Axes>"
            ]
          },
          "metadata": {
            "tags": [],
            "needs_background": "light"
          }
        }
      ]
    },
    {
      "cell_type": "markdown",
      "metadata": {
        "id": "8EBryN0PTr0H"
      },
      "source": [
        "##Modelo regresión exponencial"
      ]
    },
    {
      "cell_type": "code",
      "metadata": {
        "colab": {
          "base_uri": "https://localhost:8080/",
          "height": 335
        },
        "id": "4iM_ruyTTrF2",
        "outputId": "51261600-7d58-416d-b955-4e594b8320c5"
      },
      "source": [
        "curve_fit = np.polyfit(xvaac, np.log(yvaac), deg=1)\n",
        "print(curve_fit)\n",
        "pred_x = np.array(list(range(min(xvaac), max(xvaac)+15)))\n",
        "yx = np.exp(curve_fit[1]) * np.exp(curve_fit[0]*pred_x)\n",
        "pp.plot(xvaac,yvaac,\"o\")\n",
        "pp.plot(pred_x,yx, color=\"gold\")\n",
        "pp.grid(True)"
      ],
      "execution_count": 18,
      "outputs": [
        {
          "output_type": "stream",
          "text": [
            "/usr/local/lib/python3.7/dist-packages/pandas/core/series.py:726: RuntimeWarning: divide by zero encountered in log\n",
            "  result = getattr(ufunc, method)(*inputs, **kwargs)\n"
          ],
          "name": "stderr"
        },
        {
          "output_type": "stream",
          "text": [
            "[nan nan]\n"
          ],
          "name": "stdout"
        },
        {
          "output_type": "display_data",
          "data": {
            "image/png": "[encoded data removed]",
            "text/plain": [
              "<Figure size 648x288 with 1 Axes>"
            ]
          },
          "metadata": {
            "tags": [],
            "needs_background": "light"
          }
        }
      ]
    },
    {
      "cell_type": "markdown",
      "metadata": {
        "id": "xZMOd7hnlFxN"
      },
      "source": [
        "# Regresión Polinomial \n"
      ]
    },
    {
      "cell_type": "code",
      "metadata": {
        "colab": {
          "base_uri": "https://localhost:8080/",
          "height": 404
        },
        "id": "wIZMILvNrwLl",
        "outputId": "b419468f-fb93-4607-8df6-ec7d9b952d84"
      },
      "source": [
        "print(len(xvaac))\n",
        "longitud_dosis = np.array(range(1, len(xvaac)+1))\n",
        "print(len(longitud_dosis))\n",
        "\n",
        "x_polimonial = np.poly1d(np.polyfit(longitud_dosis, yvaac, 4))\n",
        "print('datos', x_polimonial)\n",
        "y_p = x_polimonial(longitud_dosis)\n",
        "print(len(y_p))\n",
        "pp.scatter(longitud_dosis, yvaac)\n",
        "pp.plot(longitud_dosis, y_p)\n",
        "pp.title('Regresion polimonial vacunados')\n",
        "pp.xlabel('primera dosis')\n",
        "pp.ylabel('segunda dosis')"
      ],
      "execution_count": 51,
      "outputs": [
        {
          "output_type": "stream",
          "text": [
            "50\n",
            "50\n",
            "datos         4         3         2\n",
            "0.1036 x - 16.57 x + 840.1 x - 8612 x + 1.964e+04\n",
            "50\n"
          ],
          "name": "stdout"
        },
        {
          "output_type": "execute_result",
          "data": {
            "text/plain": [
              "Text(0, 0.5, 'segunda dosis')"
            ]
          },
          "metadata": {
            "tags": []
          },
          "execution_count": 51
        },
        {
          "output_type": "display_data",
          "data": {
            "image/png": "[encoded data removed]",
            "text/plain": [
              "<Figure size 648x288 with 1 Axes>"
            ]
          },
          "metadata": {
            "tags": [],
            "needs_background": "light"
          }
        }
      ]
    },
    {
      "cell_type": "code",
      "metadata": {
        "id": "gWVZGaWEtIzf"
      },
      "source": [
        ""
      ],
      "execution_count": null,
      "outputs": []
    },
    {
      "cell_type": "markdown",
      "metadata": {
        "id": "UYJ_OA2FERNx"
      },
      "source": [
        "#Comparacion entre paises\n"
      ]
    },
    {
      "cell_type": "code",
      "metadata": {
        "id": "6LgZ_ljiEWfg"
      },
      "source": [
        "urlPaises = 'https://raw.githubusercontent.com/owid/covid-19-data/master/public/data/vaccinations/vaccinations.csv'\n",
        "df_vacuna_paises = pd.read_csv(urlPaises, header= None).fillna(0)\n",
        "df_vacuna_paises.columns = ['location','iso_code','date','total_vaccinations','people_vaccinated','people_fully_vaccinated','daily_vaccinations_raw','daily_vaccinations','total_vaccinations_per_hundred','people_vaccinated_per_hundred','people_fully_vaccinated_per_hundred','daily_vaccinations_per_million']\n"
      ],
      "execution_count": null,
      "outputs": []
    },
    {
      "cell_type": "code",
      "metadata": {
        "id": "QIq5sUivp9zl"
      },
      "source": [
        "df_vacuna_paises = df_vacuna_paises[df_vacuna_paises['location'].isin(['Ecuador'])]\n",
        "df_vacuna_paises = df_vacuna_paises.loc[:,['date', 'people_fully_vaccinated']]\n",
        "FMT = '%Y-%m-%d'\n",
        "date = df_vacuna_paises['date']\n",
        "\n",
        "df_vacuna_paises['date'] = date.map(lambda x : (datetime.strptime(x, FMT) - datetime.strptime(\"2021-01-01\", FMT)).days)\n",
        "date"
      ],
      "execution_count": null,
      "outputs": []
    },
    {
      "cell_type": "code",
      "metadata": {
        "id": "IbZKpwUrv7sI"
      },
      "source": [
        "x = list(df_vacuna_paises.iloc [:, 0]) # Fecha\n",
        "y = list(df_vacuna_paises.iloc [:, 1]) # Numero de casos\n",
        "\n",
        "print(x)\n",
        "regr = linear_model.LinearRegression()\n",
        " \n",
        "# Entrenamos nuestro modelo\n",
        "regr.fit(np.array(x).reshape(-1, 1) ,y)\n",
        "\n",
        "# Veamos los coeficienetes obtenidos, En nuestro caso, serán la Tangente\n",
        "print('Coefficients: \\n', regr.coef_)\n",
        "# Este es el valor donde corta el eje Y (en X=0)\n",
        "print('Independent term: \\n', regr.intercept_)\n",
        "# Error Cuadrado Medio\n",
        "######\n",
        "y_prediccion = regr.predict([[100]])\n",
        "print('prediccion --->',int(y_prediccion))\n",
        "\n",
        "\n"
      ],
      "execution_count": null,
      "outputs": []
    },
    {
      "cell_type": "code",
      "metadata": {
        "id": "Npc2FNB4wYuT"
      },
      "source": [
        "###'\n",
        "pp.scatter(x, y, c='red', alpha=0.9)\n",
        "x_real = np.array(range(50, 100))\n",
        "#print(x_real)\n",
        "pp.gcf().set_size_inches(42, 25)\n",
        "pp.plot(x_real, regr.predict(x_real.reshape(-1, 1)), color='blue')\n",
        "pp.title('Análisis vacunados ecuador')\n",
        "pp.xlabel('fecha de vacunacion')\n",
        "pp.ylabel('total de vacunados')\n"
      ],
      "execution_count": null,
      "outputs": []
    },
    {
      "cell_type": "markdown",
      "metadata": {
        "id": "hWACcMtfMCLK"
      },
      "source": [
        "#AHOA AQUI BRASIL\n"
      ]
    },
    {
      "cell_type": "code",
      "metadata": {
        "id": "hOgUrPGgMfAF"
      },
      "source": [
        "urlPaises = 'https://raw.githubusercontent.com/owid/covid-19-data/master/public/data/vaccinations/vaccinations.csv'\n",
        "df_vacuna_paises = pd.read_csv(urlPaises, header= None).fillna(0)\n",
        "df_vacuna_paises.columns = ['location','iso_code','date','total_vaccinations','people_vaccinated','people_fully_vaccinated','daily_vaccinations_raw','daily_vaccinations','total_vaccinations_per_hundred','people_vaccinated_per_hundred','people_fully_vaccinated_per_hundred','daily_vaccinations_per_million']\n"
      ],
      "execution_count": null,
      "outputs": []
    },
    {
      "cell_type": "code",
      "metadata": {
        "id": "-pyRUxVaIkBc"
      },
      "source": [
        "br_fecha = []\n",
        "br_vacunados = []\n",
        "for lugar, fecha, vacuna in zip(df_vacuna_paises['location'], df_vacuna_paises['date'], df_vacuna_paises['people_fully_vaccinated']):\n",
        "  if lugar == 'Brazil':\n",
        "    ff = datetime.strptime(fecha, '%Y-%m-%d')\n",
        "    br_fecha.append(ff.day) \n",
        "    br_vacunados.append(vacuna)\n",
        "fecha_vacuna_br = np.array(br_fecha)\n",
        "vacunados_total_br = np.array(br_vacunados, dtype='float')\n",
        "btotal = np.arange(1, len(vacunados_total_br) + 1, 1)\n",
        "\n",
        "btotal"
      ],
      "execution_count": null,
      "outputs": []
    },
    {
      "cell_type": "code",
      "metadata": {
        "id": "ZwnBsgpDKA0L"
      },
      "source": [
        "#xB = list(fecha_vacuna_br[0:]) # Fecha\n",
        "#yB = list(vacunados_total_br[0:]) # Numero de casos\n",
        "#print(xB)\n",
        "#print('vacunados-->' ,yB)\n",
        "\n",
        "\n",
        "# Creamos el objeto de Regresión Lineal\n",
        "regrB = linear_model.LinearRegression()\n",
        " \n",
        "# Entrenamos nuestro modelo\n",
        "regrB.fit(np.array(btotal).reshape(-1, 1) ,vacunados_total_br)\n",
        "\n",
        "# Veamos los coeficienetes obtenidos, En nuestro caso, serán la Tangente\n",
        "print('Coefficients br: \\n', regrB.coef_)\n",
        "# Este es el valor donde corta el eje Y (en X=0)\n",
        "print('Independent term br: \\n', regrB.intercept_)\n",
        "# Error Cuadrado Medio\n",
        "######\n",
        "y_prediccionB = regrB.predict([[100]])\n",
        "print('prediccion Brasil --->',int(y_prediccionB))\n"
      ],
      "execution_count": null,
      "outputs": []
    },
    {
      "cell_type": "code",
      "metadata": {
        "id": "HC1dNij-OqvT"
      },
      "source": [
        "fig, (ax1) = pp.subplots(1, sharex='col', sharey='row',\n",
        "                        gridspec_kw={'hspace': 0, 'wspace': 0}, figsize=(20,20))\n",
        "x_realB = np.array(range(1, len(vacunados_total_br) + 1))\n",
        "ax1.scatter(btotal, vacunados_total_br, c='red', alpha=0.9)\n",
        "\n",
        "\n",
        "pp.plot(x_realB, regrB.predict(x_realB.reshape(-1, 1)), color='#4aa96c')\n",
        "pp.title('Análisis vacunados Brasil')\n",
        "pp.xlabel('fecha de vacunacion')\n",
        "pp.ylabel('total de vacunados')\n",
        "#x1.gcf().set_size_inches(42, 25)"
      ],
      "execution_count": null,
      "outputs": []
    },
    {
      "cell_type": "markdown",
      "metadata": {
        "id": "EEouTR5MO-9K"
      },
      "source": [
        "#CHILE"
      ]
    },
    {
      "cell_type": "code",
      "metadata": {
        "id": "qu5g4JucPBAS"
      },
      "source": [
        "urlPaises = 'https://raw.githubusercontent.com/owid/covid-19-data/master/public/data/vaccinations/vaccinations.csv'\n",
        "df_vacuna_paises = pd.read_csv(urlPaises, header= None).fillna(0)\n",
        "df_vacuna_paises.columns = ['location','iso_code','date','total_vaccinations','people_vaccinated','people_fully_vaccinated','daily_vaccinations_raw','daily_vaccinations','total_vaccinations_per_hundred','people_vaccinated_per_hundred','people_fully_vaccinated_per_hundred','daily_vaccinations_per_million']\n"
      ],
      "execution_count": null,
      "outputs": []
    },
    {
      "cell_type": "code",
      "metadata": {
        "id": "VfyQRZh0PEgM"
      },
      "source": [
        "ch_fecha = []\n",
        "ch_vacunados = []\n",
        "for lugarc, fechac, vacunac in zip(df_vacuna_paises['location'], df_vacuna_paises['date'], df_vacuna_paises['people_fully_vaccinated']):\n",
        "  if lugarc == 'Chile':\n",
        "    ff = datetime.strptime(fechac, '%Y-%m-%d')\n",
        "    ch_fecha.append(ff.day) \n",
        "    ch_vacunados.append(vacunac)\n",
        "fecha_vacuna_chile = np.array(ch_fecha)\n",
        "vacunados_total_chile = np.array(ch_vacunados, dtype='float')\n",
        "total_vacunaC= np.arange(1, len(vacunados_total_chile) + 1, 1)\n"
      ],
      "execution_count": null,
      "outputs": []
    },
    {
      "cell_type": "code",
      "metadata": {
        "id": "Vj-SnFVsPPcr"
      },
      "source": [
        "xC = list(fecha_vacuna_chile) # Fecha\n",
        "yC = list(vacunados_total_chile) # Numero de casos\n",
        "print(xC)\n",
        "# Creamos el objeto de Regresión Lineal\n",
        "regrC = linear_model.LinearRegression()\n",
        " \n",
        "# Entrenamos nuestro modelo\n",
        "regrC.fit(np.array(xC).reshape(-1, 1) ,yC)\n",
        "\n",
        "# Veamos los coeficienetes obtenidos, En nuestro caso, serán la Tangente\n",
        "print('Coefficients: \\n', regrC.coef_)\n",
        "# Este es el valor donde corta el eje Y (en X=0)\n",
        "print('Independent term: \\n', regrC.intercept_)\n",
        "# Error Cuadrado Medio\n",
        "######\n",
        "y_prediccionC = regrC.predict([[100]])\n",
        "print('prediccion Chile --->',int(y_prediccionC))"
      ],
      "execution_count": null,
      "outputs": []
    },
    {
      "cell_type": "code",
      "metadata": {
        "id": "dx6KMoi7PWtf"
      },
      "source": [
        "pp.scatter(xC, yC, c='red', alpha=0.9)\n",
        "x_realC = np.array(range(1, len(vacunados_total_chile) + 1))\n",
        "#print(x_real)\n",
        "pp.gcf().set_size_inches(42, 25)\n",
        "pp.plot(x_realC, regrC.predict(x_realC.reshape(-1, 1)), color='black')\n",
        "pp.title('Análisis vacunados Chile')\n",
        "pp.xlabel('fecha de vacunacion')\n",
        "pp.ylabel('total de vacunados')"
      ],
      "execution_count": null,
      "outputs": []
    }
  ]
}