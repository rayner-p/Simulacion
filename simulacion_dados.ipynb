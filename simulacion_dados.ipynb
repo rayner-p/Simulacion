{
  "nbformat": 4,
  "nbformat_minor": 0,
  "metadata": {
    "colab": {
      "name": "simulacion_dados.ipynb",
      "provenance": [],
      "collapsed_sections": [],
      "authorship_tag": "ABX9TyMHovxIRjL2B/2oVmzY1oFR",
      "include_colab_link": true
    },
    "kernelspec": {
      "name": "python3",
      "display_name": "Python 3"
    },
    "language_info": {
      "name": "python"
    }
  },
  "cells": [
    {
      "cell_type": "markdown",
      "metadata": {
        "id": "view-in-github",
        "colab_type": "text"
      },
      "source": [
        "<a href=\"https://colab.research.google.com/github/rayner-p/Simulacion/blob/main/simulacion_dados.ipynb\" target=\"_parent\"><img src=\"https://colab.research.google.com/assets/colab-badge.svg\" alt=\"Open In Colab\"/></a>"
      ]
    },
    {
      "cell_type": "markdown",
      "metadata": {
        "id": "NLuJ0sJJmWyc"
      },
      "source": [
        "# <div align=\"center\"> ![Logo](https://www.ups.edu.ec/ups_portal-theme/images/ups/home/logo-ups-home.png)\n",
        "#<div align=\"center\"> Universidad Politécnica Salesiana\n",
        "##Alumno: **Rayner Palta**\n",
        "\n",
        "##Materia: **Simulación**\n",
        "\n",
        "---\n",
        "###Realizar un sistema de lanzamiento de dos dados y generr el número de ocurrencias de la sumatoria  con 100 lanzamientos y 10.000 lanzamientos.\n",
        "\n",
        "##Generar un histograma.\n"
      ]
    },
    {
      "cell_type": "code",
      "metadata": {
        "id": "RO77c3izkoSG"
      },
      "source": [
        "from collections import Counter\n",
        "import json\n",
        "import random as rd\n",
        "import matplotlib.pyplot as pp"
      ],
      "execution_count": null,
      "outputs": []
    },
    {
      "cell_type": "code",
      "metadata": {
        "id": "E7-buRaznhfd"
      },
      "source": [
        "def dados(x):\n",
        "    total_dados= []\n",
        "    for i in range(x):\n",
        "        pri = rd.randint(1, 6)\n",
        "        seg = rd.randint(1, 6)\n",
        "        total_dados.append(pri + seg)\n",
        "    cont = Counter(total_dados)\n",
        "    pp.title('Ocurrencias con: ' +str(x)+' lanzamientos')\n",
        "    pp.hist(total_dados, bins = x, width = 0.5, alpha = 0.7, color = '#39a6a3')\n",
        "    pp.grid(axis = 'y')\n",
        "    pp.xlabel('Valor ')\n",
        "    pp.ylabel('Frecuencia ')\n",
        "    pp.xticks(range(0, max(cont.keys()) + 1))\n",
        "    pp.show()\n",
        "    \n",
        "    for i in sorted(cont.items()):\n",
        "        print(\"Valor: {} Porcentaje: {} %\".format(i[0], round((i[1]/x) * 100, 2)))"
      ],
      "execution_count": null,
      "outputs": []
    },
    {
      "cell_type": "code",
      "metadata": {
        "colab": {
          "base_uri": "https://localhost:8080/",
          "height": 485
        },
        "id": "5d49pyIJo7V-",
        "outputId": "523a9112-b647-46bd-d4a8-fc99e777c655"
      },
      "source": [
        "primer_lanzamiento = dados(1000)"
      ],
      "execution_count": null,
      "outputs": [
        {
          "output_type": "display_data",
          "data": {
            "image/png": "[encoded data removed]",
            "text/plain": [
              "<Figure size 432x288 with 1 Axes>"
            ]
          },
          "metadata": {
            "tags": [],
            "needs_background": "light"
          }
        },
        {
          "output_type": "stream",
          "text": [
            "Valor: 2 Porcentaje: 2.7 %\n",
            "Valor: 3 Porcentaje: 5.8 %\n",
            "Valor: 4 Porcentaje: 7.9 %\n",
            "Valor: 5 Porcentaje: 11.8 %\n",
            "Valor: 6 Porcentaje: 13.3 %\n",
            "Valor: 7 Porcentaje: 16.6 %\n",
            "Valor: 8 Porcentaje: 13.3 %\n",
            "Valor: 9 Porcentaje: 9.8 %\n",
            "Valor: 10 Porcentaje: 9.6 %\n",
            "Valor: 11 Porcentaje: 5.8 %\n",
            "Valor: 12 Porcentaje: 3.4 %\n"
          ],
          "name": "stdout"
        }
      ]
    },
    {
      "cell_type": "code",
      "metadata": {
        "colab": {
          "base_uri": "https://localhost:8080/",
          "height": 485
        },
        "id": "8Ns0bigvp11q",
        "outputId": "94ab3cdf-a6c7-4407-ba4d-da612268ed2d"
      },
      "source": [
        "segundo_lanzamiento = dados(100000)"
      ],
      "execution_count": null,
      "outputs": [
        {
          "output_type": "display_data",
          "data": {
            "image/png": "[encoded data removed]",
            "text/plain": [
              "<Figure size 432x288 with 1 Axes>"
            ]
          },
          "metadata": {
            "tags": [],
            "needs_background": "light"
          }
        },
        {
          "output_type": "stream",
          "text": [
            "Valor: 2 Porcentaje: 2.81 %\n",
            "Valor: 3 Porcentaje: 5.48 %\n",
            "Valor: 4 Porcentaje: 8.4 %\n",
            "Valor: 5 Porcentaje: 11.18 %\n",
            "Valor: 6 Porcentaje: 13.86 %\n",
            "Valor: 7 Porcentaje: 16.46 %\n",
            "Valor: 8 Porcentaje: 13.99 %\n",
            "Valor: 9 Porcentaje: 11.17 %\n",
            "Valor: 10 Porcentaje: 8.21 %\n",
            "Valor: 11 Porcentaje: 5.65 %\n",
            "Valor: 12 Porcentaje: 2.79 %\n"
          ],
          "name": "stdout"
        }
      ]
    }
  ]
}