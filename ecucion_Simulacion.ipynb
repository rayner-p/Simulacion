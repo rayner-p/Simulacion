{
  "nbformat": 4,
  "nbformat_minor": 0,
  "metadata": {
    "colab": {
      "name": "ecucion_Simulacion.ipynb",
      "provenance": [],
      "collapsed_sections": [],
      "authorship_tag": "ABX9TyNWJWlu4y0OvV8dqRkiOrip",
      "include_colab_link": true
    },
    "kernelspec": {
      "name": "python3",
      "display_name": "Python 3"
    },
    "language_info": {
      "name": "python"
    }
  },
  "cells": [
    {
      "cell_type": "markdown",
      "metadata": {
        "id": "view-in-github",
        "colab_type": "text"
      },
      "source": [
        "<a href=\"https://colab.research.google.com/github/rayner-p/Simulacion/blob/main/ecucion_Simulacion.ipynb\" target=\"_parent\"><img src=\"https://colab.research.google.com/assets/colab-badge.svg\" alt=\"Open In Colab\"/></a>"
      ]
    },
    {
      "cell_type": "markdown",
      "metadata": {
        "id": "bRmqGu_rrU7A"
      },
      "source": [
        "#<div align='center'>Universidad Politécnica Salesiana\n",
        "##Alumno: **Rayner Palta**\n",
        "\n",
        "##Materia: **Simulación**\n",
        "\n",
        "\n",
        "---\n",
        "##Encontrar la ecuación de la recta dado unos puntos x, y\n"
      ]
    },
    {
      "cell_type": "code",
      "metadata": {
        "id": "fwn4Q-Szrw_C"
      },
      "source": [
        "def calculo_ecuacion(x1,x2,y1,y2):\n",
        "  pendiente = (y2-y1/x2-x1)\n",
        "  print(pendiente)\n",
        "  b = x1-( pendiente * y1)\n",
        "  ecuacion_recta = \"Y = \"+str(pendiente)+ \" X + \"+str(b)\n",
        "  print(ecuacion_recta)\n",
        "  \n"
      ],
      "execution_count": 7,
      "outputs": []
    },
    {
      "cell_type": "code",
      "metadata": {
        "colab": {
          "base_uri": "https://localhost:8080/"
        },
        "id": "81kZYoIGvmiR",
        "outputId": "c3caa2d4-343f-4579-8fa7-eb0f906c7175"
      },
      "source": [
        "primero = calculo_ecuacion(10,-4, 2,6)"
      ],
      "execution_count": 8,
      "outputs": [
        {
          "output_type": "stream",
          "text": [
            "-3.5\n",
            "Y = -3.5 X + 17.0\n"
          ],
          "name": "stdout"
        }
      ]
    }
  ]
}