{
  "nbformat": 4,
  "nbformat_minor": 0,
  "metadata": {
    "colab": {
      "name": "vacunas_fechas.ipynb",
      "provenance": [],
      "collapsed_sections": []
    },
    "kernelspec": {
      "name": "python3",
      "display_name": "Python 3"
    },
    "language_info": {
      "name": "python"
    }
  },
  "cells": [
    {
      "cell_type": "markdown",
      "metadata": {
        "id": "VPhLqOhXXpj8"
      },
      "source": [
        "#Universidad Politécnica Salesiana\n",
        "###Alumno: Rayner Palta\n",
        "###Materia: Simulación"
      ]
    },
    {
      "cell_type": "markdown",
      "metadata": {
        "id": "HXW55H7OXyYT"
      },
      "source": [
        "#Ejercicio:\n",
        "\n",
        "##Utilizando las tarea de la predicción de llegadas de vacunas y el recinto de vacunación, realizar un sistema que permita simular y correlacionar el procesos de llegada/compras de vacuna con el procesos de vacunación, en donde si no se tiene un stock/número de vacunas las personas tendran que esperar/reasignar a otro día en donde exista vacunas dentro del establecimiento y realizar el proceso de vacunación"
      ]
    },
    {
      "cell_type": "code",
      "metadata": {
        "colab": {
          "base_uri": "https://localhost:8080/"
        },
        "id": "nWUD8bDAoEIr",
        "outputId": "ebb8a268-820c-41a3-e467-e4a1f48301d1"
      },
      "source": [
        "pip install simpy\n"
      ],
      "execution_count": 8,
      "outputs": [
        {
          "output_type": "stream",
          "text": [
            "Collecting simpy\n",
            "  Downloading simpy-4.0.1-py2.py3-none-any.whl (29 kB)\n",
            "Installing collected packages: simpy\n",
            "Successfully installed simpy-4.0.1\n"
          ],
          "name": "stdout"
        }
      ]
    },
    {
      "cell_type": "code",
      "metadata": {
        "colab": {
          "base_uri": "https://localhost:8080/"
        },
        "id": "sFArc1ZlX6Kd",
        "outputId": "9a18ff3e-fc40-4b78-9ad2-7bd508da466b"
      },
      "source": [
        "import simpy\n",
        "\n",
        "sp = simpy.Environment()\n",
        "def llegada_vacuna(sp, cantidad):\n",
        "  for i in range(2700):\n",
        "    yield sp.timeout(0.5)\n",
        "    yield cantidad.put(f'vacuna{i}')\n",
        "    print(f'Llego la vacuna {i} en el tiempo {sp.now}')\n",
        "\n",
        "def paciente(nombre,sp,cantidad):\n",
        "  while True:\n",
        "    yield sp.timeout(0.5)\n",
        "    print(f'{nombre} se coloca la vacuna en el tiempo {sp.now}')\n",
        "\n",
        "cantidad = simpy.Store(sp, capacity=10)\n",
        "llegada = sp.process(llegada_vacuna(sp, cantidad))\n",
        "paciente = sp.process(paciente(\"paciente\",sp, cantidad))\n",
        "sp.run(until=15)"
      ],
      "execution_count": 12,
      "outputs": [
        {
          "output_type": "stream",
          "text": [
            "paciente se coloca la vacuna en el tiempo 0.5\n",
            "Llego la vacuna 0 en el tiempo 0.5\n",
            "paciente se coloca la vacuna en el tiempo 1.0\n",
            "Llego la vacuna 1 en el tiempo 1.0\n",
            "paciente se coloca la vacuna en el tiempo 1.5\n",
            "Llego la vacuna 2 en el tiempo 1.5\n",
            "paciente se coloca la vacuna en el tiempo 2.0\n",
            "Llego la vacuna 3 en el tiempo 2.0\n",
            "paciente se coloca la vacuna en el tiempo 2.5\n",
            "Llego la vacuna 4 en el tiempo 2.5\n",
            "paciente se coloca la vacuna en el tiempo 3.0\n",
            "Llego la vacuna 5 en el tiempo 3.0\n",
            "paciente se coloca la vacuna en el tiempo 3.5\n",
            "Llego la vacuna 6 en el tiempo 3.5\n",
            "paciente se coloca la vacuna en el tiempo 4.0\n",
            "Llego la vacuna 7 en el tiempo 4.0\n",
            "paciente se coloca la vacuna en el tiempo 4.5\n",
            "Llego la vacuna 8 en el tiempo 4.5\n",
            "paciente se coloca la vacuna en el tiempo 5.0\n",
            "Llego la vacuna 9 en el tiempo 5.0\n",
            "paciente se coloca la vacuna en el tiempo 5.5\n",
            "paciente se coloca la vacuna en el tiempo 6.0\n",
            "paciente se coloca la vacuna en el tiempo 6.5\n",
            "paciente se coloca la vacuna en el tiempo 7.0\n",
            "paciente se coloca la vacuna en el tiempo 7.5\n",
            "paciente se coloca la vacuna en el tiempo 8.0\n",
            "paciente se coloca la vacuna en el tiempo 8.5\n",
            "paciente se coloca la vacuna en el tiempo 9.0\n",
            "paciente se coloca la vacuna en el tiempo 9.5\n",
            "paciente se coloca la vacuna en el tiempo 10.0\n",
            "paciente se coloca la vacuna en el tiempo 10.5\n",
            "paciente se coloca la vacuna en el tiempo 11.0\n",
            "paciente se coloca la vacuna en el tiempo 11.5\n",
            "paciente se coloca la vacuna en el tiempo 12.0\n",
            "paciente se coloca la vacuna en el tiempo 12.5\n",
            "paciente se coloca la vacuna en el tiempo 13.0\n",
            "paciente se coloca la vacuna en el tiempo 13.5\n",
            "paciente se coloca la vacuna en el tiempo 14.0\n",
            "paciente se coloca la vacuna en el tiempo 14.5\n"
          ],
          "name": "stdout"
        }
      ]
    },
    {
      "cell_type": "code",
      "metadata": {
        "colab": {
          "base_uri": "https://localhost:8080/"
        },
        "id": "H8FS24bQX-IN",
        "outputId": "7b98a482-918c-4df1-ae45-5fd906c5e4cc"
      },
      "source": [
        "tiempo = simpy.PriorityItem('P2','#0000')\n",
        "tiempo2 = simpy.PriorityItem('P0','#0001')\n",
        "tiempo3 = simpy.PriorityItem('P3','#0002')\n",
        "tiempo4 = simpy.PriorityItem('P1','#0003')\n",
        "\n",
        "def vacunacion_terminada(env, calculo):\n",
        "  for problema in [tiempo,tiempo,tiempo2, tiempo3,tiempo4 ]:\n",
        "    yield sp.timeout(1)\n",
        "    print(f'En el tiempo {sp.now} se terminarón las vacunas {problema}')\n",
        "    yield calculo.put(problema)\n",
        "    \n",
        "def transaccion(sp,calculo):\n",
        "  while True:\n",
        "    problema = yield calculo.get()\n",
        "    yield sp.timeout(3)\n",
        "    print(f'Se ha cambiado al paciente {problema} en el tiempo {sp.now}')\n",
        "\n",
        "calculo = simpy.PriorityStore(sp)\n",
        "sp.process(vacunacion_terminada(sp,calculo))\n",
        "sp.process(transaccion(sp, calculo))\n",
        "sp.run(until=20)"
      ],
      "execution_count": 19,
      "outputs": [
        {
          "output_type": "stream",
          "text": [
            "paciente se coloca la vacuna en el tiempo 16.5\n",
            "En el tiempo 17 se terminarón las vacunas PriorityItem(priority='P2', item='#0000')\n",
            "En el tiempo 17 se terminarón las vacunas PriorityItem(priority='P2', item='#0000')\n",
            "paciente se coloca la vacuna en el tiempo 17.0\n",
            "paciente se coloca la vacuna en el tiempo 17.5\n",
            "En el tiempo 18 se terminarón las vacunas PriorityItem(priority='P2', item='#0000')\n",
            "En el tiempo 18 se terminarón las vacunas PriorityItem(priority='P2', item='#0000')\n",
            "paciente se coloca la vacuna en el tiempo 18.0\n",
            "paciente se coloca la vacuna en el tiempo 18.5\n",
            "En el tiempo 19 se terminarón las vacunas PriorityItem(priority='P0', item='#0001')\n",
            "En el tiempo 19 se terminarón las vacunas PriorityItem(priority='P0', item='#0001')\n",
            "paciente se coloca la vacuna en el tiempo 19.0\n",
            "paciente se coloca la vacuna en el tiempo 19.5\n"
          ],
          "name": "stdout"
        }
      ]
    }
  ]
}