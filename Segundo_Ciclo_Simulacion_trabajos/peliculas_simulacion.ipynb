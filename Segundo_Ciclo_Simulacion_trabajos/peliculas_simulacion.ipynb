{
 "cells": [
  {
   "cell_type": "markdown",
   "metadata": {
    "id": "K_-VPfHAsPDJ"
   },
   "source": [
    "\n",
    "\n",
    "\n",
    "---\n",
    "\n",
    "\n",
    "#Universidad Politécnica Salesiana\n",
    "##Alumno: Rayner Palta\n",
    "###Materia: Simulación\n",
    "\n",
    "---\n",
    "\n",
    "\n",
    "##Al modelo de simulación de la venta de boletos de un teatro/cine agregar la simulación grafica 2D/3D utilizando cualquier libreria grafica, por ejemplo pygame/tkinter, etc. generar un informe en formato PDF que me permita evidenciar la simulación y generar una grafica/reporte de los resultados.\n",
    "\n",
    "\n"
   ]
  },
  {
   "cell_type": "code",
   "execution_count": 2,
   "metadata": {
    "colab": {
     "base_uri": "https://localhost:8080/"
    },
    "id": "rrSK-H3upyKu",
    "outputId": "2cf631f3-e4a3-49e7-b529-a9fce07d66e6"
   },
   "outputs": [
    {
     "name": "stdout",
     "output_type": "stream",
     "text": [
      "Collecting simpy\n",
      "  Downloading https://files.pythonhosted.org/packages/20/f9/874b0bab83406827db93292a5bbe5acb5c18e3cea665b2f6e053292cb687/simpy-4.0.1-py2.py3-none-any.whl\n",
      "Installing collected packages: simpy\n",
      "Successfully installed simpy-4.0.1\n",
      "Note: you may need to restart the kernel to use updated packages.\n"
     ]
    }
   ],
   "source": [
    "pip install simpy"
   ]
  },
  {
   "cell_type": "code",
   "execution_count": 40,
   "metadata": {
    "id": "9UzPv5zPpusw"
   },
   "outputs": [],
   "source": [
    "import collections\n",
    "import random\n",
    "import simpy\n",
    "\n",
    "\n",
    "##--------------------------------------------------------------------------------------------------------------------------------------------------------\n",
    "\n",
    "\n",
    "def ventaBoletos(env, num_boletos, pelicula, teatro):\n",
    "  with teatro.contador.request() as turno:\n",
    "    resultado = yield turno | teatro.sold_out[pelicula]\n",
    "    if turno not in resultado:\n",
    "      teatro.num_renegados[pelicula] += 1\n",
    "      return\n",
    "    if teatro.num_boletos[pelicula] < num_boletos:\n",
    "      yield env.timeout(0.5) \n",
    "      return\n",
    "    teatro.num_boletos[pelicula] -= num_boletos\n",
    "    if teatro.num_boletos[pelicula] < 2:\n",
    "      teatro.sold_out[pelicula].succeed()\n",
    "      teatro.tiempo_agotado[pelicula] = env.now\n",
    "      teatro.num_boletos[pelicula] = 0\n",
    "    yield env.timeout(1)\n",
    "\n",
    "\n",
    "def llegadaClientes(env, teatro):\n",
    "  while True:\n",
    "    yield env.timeout(random.expovariate(1/0.5))\n",
    "    pelicula = random.choices(teatro.peliculas, teatro.probabilidad, k=1)\n",
    "    num_boletos = random.randint(1, 10)\n",
    "    if teatro.num_boletos[pelicula[0]]:\n",
    "      env.process(ventaBoletos(env, num_boletos, pelicula[0], teatro))\n",
    "\n",
    "\n",
    "def process_run(velocidas,cantidadBoleto,tmSimulacion):\n",
    "    \n",
    "    VELOCIDAD_LLEGADA = velocidas\n",
    "    NUM_BOLETO = cantidadBoleto\n",
    "    TIEMPO_SIMULACION = tmSimulacion\n",
    "    \n",
    "    resultado = \"\"\n",
    "    \n",
    "    Teatro = collections.namedtuple('Teatro', 'contador, peliculas, probabilidad, num_boletos, sold_out, tiempo_agotado, num_renegados')\n",
    "\n",
    "    print('Teatro Carlos Crespi - UPS')\n",
    "    \n",
    "    resultado = \"Teatro Carlos Crespi - UPS\"\n",
    "    env = simpy.Environment()\n",
    "\n",
    "    contador = simpy.Resource(env,capacity=1)\n",
    "    peliculas = ['Conjuro 3', 'Rapidos y Furiosos 10', 'Pulp Fictions', 'La liga de la Justicia', 'Godzilla vs Kong']\n",
    "    \n",
    "    resultado = resultado +\"\\n\"\n",
    "    \n",
    "    probabilidad=[0.1, 0.3, 0.5, 0.7, 0.9]\n",
    "    num_boletos = {pelicula: NUM_BOLETO for pelicula in peliculas}\n",
    "    sold_out = {pelicula: env.event() for pelicula in peliculas}\n",
    "    tiempo_agotado = {pelicula: None for pelicula in peliculas}\n",
    "    num_renegados = {pelicula: 0 for pelicula in peliculas}\n",
    "\n",
    "    teatro = Teatro(contador, peliculas, probabilidad, num_boletos, sold_out, tiempo_agotado, num_renegados)\n",
    "    env.process(llegadaClientes(env, teatro))\n",
    "    env.run(until=TIEMPO_SIMULACION)\n",
    "\n",
    "    # Analisis y resultados\n",
    "    for pelicula in peliculas:\n",
    "        if teatro.sold_out[pelicula]:\n",
    "            print('Pelicula: %s se agoto en el tiempo %.1f despues de salir a la venta' %(pelicula, teatro.tiempo_agotado[pelicula]))\n",
    "            sms1 = 'Pelicula: %s se agoto en el tiempo %.1f despues de salir a la venta' %(pelicula, teatro.tiempo_agotado[pelicula])\n",
    "            \n",
    "            print('Numero de personas que salieron de la fila/renegados %s' %teatro.num_renegados[pelicula])\n",
    "            sms2 = 'Numero de personas que salieron de la fila/renegados %s' %teatro.num_renegados[pelicula]\n",
    "            \n",
    "            resultado = resultado + \"\\n\" + sms1 +\"\\n\"+ sms2\n",
    "    return resultado"
   ]
  },
  {
   "cell_type": "code",
   "execution_count": 4,
   "metadata": {
    "colab": {
     "base_uri": "https://localhost:8080/"
    },
    "id": "U9RN_L6RqHMb",
    "outputId": "52c40264-d149-43db-dc77-4df9d7b6da94"
   },
   "outputs": [
    {
     "name": "stdout",
     "output_type": "stream",
     "text": [
      "Teatro Carlos Crespi - UPS\n",
      "Pelicula: Conjuro 3 se agoto en el tiempo 76.1 despues de salir a la venta\n",
      "Numero de personas que salieron de la fila/renegados 0\n",
      "Pelicula: Rapidos y Furiosos 10 se agoto en el tiempo 20.9 despues de salir a la venta\n",
      "Numero de personas que salieron de la fila/renegados 0\n",
      "Pelicula: Pulp Fictions se agoto en el tiempo 13.8 despues de salir a la venta\n",
      "Numero de personas que salieron de la fila/renegados 2\n",
      "Pelicula: La liga de la Justicia se agoto en el tiempo 15.8 despues de salir a la venta\n",
      "Numero de personas que salieron de la fila/renegados 0\n",
      "Pelicula: Godzilla vs Kong se agoto en el tiempo 17.3 despues de salir a la venta\n",
      "Numero de personas que salieron de la fila/renegados 0\n",
      "Resultado=>  Teatro Carlos Crespi - UPS\n",
      "\n",
      "Pelicula: Conjuro 3 se agoto en el tiempo 76.1 despues de salir a la venta\n",
      "Numero de personas que salieron de la fila/renegados 0\n",
      "Pelicula: Rapidos y Furiosos 10 se agoto en el tiempo 20.9 despues de salir a la venta\n",
      "Numero de personas que salieron de la fila/renegados 0\n",
      "Pelicula: Pulp Fictions se agoto en el tiempo 13.8 despues de salir a la venta\n",
      "Numero de personas que salieron de la fila/renegados 2\n",
      "Pelicula: La liga de la Justicia se agoto en el tiempo 15.8 despues de salir a la venta\n",
      "Numero de personas que salieron de la fila/renegados 0\n",
      "Pelicula: Godzilla vs Kong se agoto en el tiempo 17.3 despues de salir a la venta\n",
      "Numero de personas que salieron de la fila/renegados 0\n"
     ]
    }
   ],
   "source": [
    "resp = process_run(vel=52,nboleto=18,tsimulacion=290)\n",
    "print(\"Resultado=> \",resp)"
   ]
  },
  {
   "cell_type": "code",
   "execution_count": 5,
   "metadata": {
    "id": "YPRzjDU3stR0"
   },
   "outputs": [],
   "source": [
    "from tkinter import *\n",
    "from tkinter import messagebox\n",
    "from tkinter import ttk\n",
    "import tkinter as tk\n",
    "\n"
   ]
  },
  {
   "cell_type": "code",
   "execution_count": 41,
   "metadata": {
    "colab": {
     "base_uri": "https://localhost:8080/",
     "height": 351
    },
    "id": "5GbFC_0lp5qn",
    "outputId": "4638ade3-923e-4a43-f896-24e0e97e3d0b"
   },
   "outputs": [
    {
     "name": "stdout",
     "output_type": "stream",
     "text": [
      "Teatro Carlos Crespi - UPS\n",
      "Pelicula: Conjuro 3 se agoto en el tiempo 32.5 despues de salir a la venta\n",
      "Numero de personas que salieron de la fila/renegados 0\n"
     ]
    },
    {
     "name": "stderr",
     "output_type": "stream",
     "text": [
      "Exception in Tkinter callback\n",
      "Traceback (most recent call last):\n",
      "  File \"/Users/rayner/opt/anaconda3/lib/python3.7/tkinter/__init__.py\", line 1705, in __call__\n",
      "    return self.func(*args)\n",
      "  File \"<ipython-input-41-4c1a87a93967>\", line 26, in guardar\n",
      "    resultado = process_run(velocidas=int(velocida), cantidadBoleto =int(boletos),tmSimulacion=int(simulacions))\n",
      "  File \"<ipython-input-40-c2b4e474e637>\", line 68, in process_run\n",
      "    print('Pelicula: %s se agoto en el tiempo %.1f despues de salir a la venta' %(pelicula, teatro.tiempo_agotado[pelicula]))\n",
      "TypeError: must be real number, not NoneType\n"
     ]
    },
    {
     "name": "stdout",
     "output_type": "stream",
     "text": [
      "Teatro Carlos Crespi - UPS\n",
      "Pelicula: Conjuro 3 se agoto en el tiempo 50.7 despues de salir a la venta\n",
      "Numero de personas que salieron de la fila/renegados 0\n",
      "Pelicula: Rapidos y Furiosos 10 se agoto en el tiempo 51.7 despues de salir a la venta\n",
      "Numero de personas que salieron de la fila/renegados 0\n",
      "Pelicula: Pulp Fictions se agoto en el tiempo 20.4 despues de salir a la venta\n",
      "Numero de personas que salieron de la fila/renegados 0\n",
      "Pelicula: La liga de la Justicia se agoto en el tiempo 16.4 despues de salir a la venta\n",
      "Numero de personas que salieron de la fila/renegados 8\n",
      "Pelicula: Godzilla vs Kong se agoto en el tiempo 12.4 despues de salir a la venta\n",
      "Numero de personas que salieron de la fila/renegados 2\n",
      "resp  Teatro Carlos Crespi - UPS\n",
      "\n",
      "Pelicula: Conjuro 3 se agoto en el tiempo 50.7 despues de salir a la venta\n",
      "Numero de personas que salieron de la fila/renegados 0\n",
      "Pelicula: Rapidos y Furiosos 10 se agoto en el tiempo 51.7 despues de salir a la venta\n",
      "Numero de personas que salieron de la fila/renegados 0\n",
      "Pelicula: Pulp Fictions se agoto en el tiempo 20.4 despues de salir a la venta\n",
      "Numero de personas que salieron de la fila/renegados 0\n",
      "Pelicula: La liga de la Justicia se agoto en el tiempo 16.4 despues de salir a la venta\n",
      "Numero de personas que salieron de la fila/renegados 8\n",
      "Pelicula: Godzilla vs Kong se agoto en el tiempo 12.4 despues de salir a la venta\n",
      "Numero de personas que salieron de la fila/renegados 2\n"
     ]
    }
   ],
   "source": [
    "grafica = tk.Tk()\n",
    "grafica.geometry(\"500x500\")\n",
    "grafica.title(\"Simulación de boleteria peliculas\")\n",
    "grafica.config(bg = 'powder blue')\n",
    "frame =Frame (bg = 'black')\n",
    "grafica.resizable(0,0)\n",
    "\n",
    "txtVelocidad=StringVar()\n",
    "velocidad = Label(grafica,text=\"Velocidad\", bg='gray', fg='black', width=10).place(x=15, y=10)\n",
    "lblVelocidad = ttk.Entry(grafica, textvariable=txtVelocidad).place(x=150,y=10)\n",
    "\n",
    "txtBoleto=StringVar()\n",
    "cantidadBoleto = Label( grafica,text=\"Cantida boletos\",  bg='gray', fg='black',width=20).place(x=5, y=40)\n",
    "lblBoleto = ttk.Entry(grafica, textvariable=txtBoleto).place(x=150,y=40)\n",
    "\n",
    "txtSimulacion=StringVar()\n",
    "simulacion = Label(grafica,text=\"Tiempo de simulacion\",  bg='gray', fg='black',width=20).place(x=10, y=70)\n",
    "lblSimulacion = ttk.Entry(grafica,textvariable=txtSimulacion).place(x=150,y=70)\n",
    "\n",
    "\n",
    "def guardar():\n",
    "    velocida = txtVelocidad.get()\n",
    "    boletos=txtBoleto.get()\n",
    "    simulacions=txtSimulacion.get()\n",
    "    \n",
    "    resultado = process_run(velocidas=int(velocida), cantidadBoleto =int(boletos),tmSimulacion=int(simulacions))\n",
    "    print(\"resp \",resultado)\n",
    "    messagebox.showinfo(message=resultado,title=\"Datos\")\n",
    "    \n",
    "\n",
    "Button(grafica, text=\"Ejecutar\",  bg='gray', fg='black', command=guardar).place(x=100, y=150)\n",
    "\n",
    "grafica.mainloop()"
   ]
  },
  {
   "cell_type": "code",
   "execution_count": null,
   "metadata": {},
   "outputs": [],
   "source": []
  }
 ],
 "metadata": {
  "colab": {
   "collapsed_sections": [],
   "name": "peliculas_simulacion.ipynb",
   "provenance": []
  },
  "kernelspec": {
   "display_name": "Python 3",
   "language": "python",
   "name": "python3"
  },
  "language_info": {
   "codemirror_mode": {
    "name": "ipython",
    "version": 3
   },
   "file_extension": ".py",
   "mimetype": "text/x-python",
   "name": "python",
   "nbconvert_exporter": "python",
   "pygments_lexer": "ipython3",
   "version": "3.7.4"
  }
 },
 "nbformat": 4,
 "nbformat_minor": 1
}
